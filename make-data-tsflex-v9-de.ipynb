{
 "cells": [
  {
   "cell_type": "code",
   "execution_count": 1,
   "id": "05f1a478",
   "metadata": {
    "_cell_guid": "b1076dfc-b9ad-4769-8c92-a6c4dae69d19",
    "_uuid": "8f2839f25d086af736a60e9eeb907d3b93b6e0e5",
    "execution": {
     "iopub.execute_input": "2023-05-25T15:29:57.052650Z",
     "iopub.status.busy": "2023-05-25T15:29:57.052117Z",
     "iopub.status.idle": "2023-05-25T15:30:29.818979Z",
     "shell.execute_reply": "2023-05-25T15:30:29.817691Z"
    },
    "papermill": {
     "duration": 32.78022,
     "end_time": "2023-05-25T15:30:29.822497",
     "exception": false,
     "start_time": "2023-05-25T15:29:57.042277",
     "status": "completed"
    },
    "tags": []
   },
   "outputs": [
    {
     "name": "stdout",
     "output_type": "stream",
     "text": [
      "Looking in links: file:///kaggle/input/tsflex\r\n",
      "Processing /kaggle/input/tsflex/tsflex-0.3.0-py3-none-any.whl\r\n",
      "Requirement already satisfied: pandas<2.0.0,>=1.3.5 in /opt/conda/lib/python3.7/site-packages (from tsflex) (1.3.5)\r\n",
      "Requirement already satisfied: numpy<2.0.0,>=1.21.5 in /opt/conda/lib/python3.7/site-packages (from tsflex) (1.21.6)\r\n",
      "Requirement already satisfied: tqdm<5.0.0,>=4.62.3 in /opt/conda/lib/python3.7/site-packages (from tsflex) (4.64.1)\r\n",
      "Requirement already satisfied: dill<0.4.0,>=0.3.4 in /opt/conda/lib/python3.7/site-packages (from tsflex) (0.3.6)\r\n",
      "Requirement already satisfied: multiprocess<0.71.0,>=0.70.12 in /opt/conda/lib/python3.7/site-packages (from tsflex) (0.70.14)\r\n",
      "Requirement already satisfied: python-dateutil>=2.7.3 in /opt/conda/lib/python3.7/site-packages (from pandas<2.0.0,>=1.3.5->tsflex) (2.8.2)\r\n",
      "Requirement already satisfied: pytz>=2017.3 in /opt/conda/lib/python3.7/site-packages (from pandas<2.0.0,>=1.3.5->tsflex) (2022.7.1)\r\n",
      "Requirement already satisfied: six>=1.5 in /opt/conda/lib/python3.7/site-packages (from python-dateutil>=2.7.3->pandas<2.0.0,>=1.3.5->tsflex) (1.16.0)\r\n",
      "Installing collected packages: tsflex\r\n",
      "Successfully installed tsflex-0.3.0\r\n",
      "\u001b[33mWARNING: Running pip as the 'root' user can result in broken permissions and conflicting behaviour with the system package manager. It is recommended to use a virtual environment instead: https://pip.pypa.io/warnings/venv\u001b[0m\u001b[33m\r\n",
      "\u001b[0mLooking in links: file:///kaggle/input/segalearn\r\n",
      "Processing /kaggle/input/segalearn/seglearn-1.2.5-py3-none-any.whl\r\n",
      "Requirement already satisfied: scipy in /opt/conda/lib/python3.7/site-packages (from seglearn) (1.7.3)\r\n",
      "Requirement already satisfied: scikit-learn>=0.21.3 in /opt/conda/lib/python3.7/site-packages (from seglearn) (1.0.2)\r\n",
      "Requirement already satisfied: numpy in /opt/conda/lib/python3.7/site-packages (from seglearn) (1.21.6)\r\n",
      "Requirement already satisfied: joblib>=0.11 in /opt/conda/lib/python3.7/site-packages (from scikit-learn>=0.21.3->seglearn) (1.2.0)\r\n",
      "Requirement already satisfied: threadpoolctl>=2.0.0 in /opt/conda/lib/python3.7/site-packages (from scikit-learn>=0.21.3->seglearn) (3.1.0)\r\n",
      "Installing collected packages: seglearn\r\n",
      "Successfully installed seglearn-1.2.5\r\n",
      "\u001b[33mWARNING: Running pip as the 'root' user can result in broken permissions and conflicting behaviour with the system package manager. It is recommended to use a virtual environment instead: https://pip.pypa.io/warnings/venv\u001b[0m\u001b[33m\r\n",
      "\u001b[0m"
     ]
    }
   ],
   "source": [
    "import numpy as np # linear algebra\n",
    "import pandas as pd # data processing, CSV file I/O (e.g. pd.read_csv)\n",
    "\n",
    "import plotly.express as px\n",
    "from plotly.subplots import make_subplots\n",
    "import plotly.graph_objects as go\n",
    "\n",
    "import os\n",
    "\n",
    "import pickle\n",
    "\n",
    "from IPython.core.debugger import set_trace\n",
    "from tqdm import tqdm\n",
    "\n",
    "from IPython.core.debugger import set_trace\n",
    "import gc\n",
    "from sklearn.model_selection import StratifiedGroupKFold\n",
    "# Install tsflex and seglearn\n",
    "!pip install tsflex --no-index --find-links=file:///kaggle/input/tsflex\n",
    "!pip install seglearn --no-index --find-links=file:///kaggle/input/segalearn\n",
    "\n",
    "\n",
    "from seglearn.feature_functions import base_features, emg_features\n",
    "\n",
    "from tsflex.features import FeatureCollection, MultipleFeatureDescriptors\n",
    "from tsflex.features.integrations import seglearn_feature_dict_wrapper\n"
   ]
  },
  {
   "cell_type": "code",
   "execution_count": 2,
   "id": "b4bcd449",
   "metadata": {
    "execution": {
     "iopub.execute_input": "2023-05-25T15:30:29.840520Z",
     "iopub.status.busy": "2023-05-25T15:30:29.839228Z",
     "iopub.status.idle": "2023-05-25T15:30:29.853579Z",
     "shell.execute_reply": "2023-05-25T15:30:29.852488Z"
    },
    "papermill": {
     "duration": 0.026322,
     "end_time": "2023-05-25T15:30:29.856481",
     "exception": false,
     "start_time": "2023-05-25T15:30:29.830159",
     "status": "completed"
    },
    "tags": []
   },
   "outputs": [],
   "source": [
    "black_list = pickle.load(open(\"/kaggle/input/black-list-v8-1/black_list.pkl\", \"rb\"))"
   ]
  },
  {
   "cell_type": "code",
   "execution_count": 3,
   "id": "8ef05e48",
   "metadata": {
    "execution": {
     "iopub.execute_input": "2023-05-25T15:30:29.873540Z",
     "iopub.status.busy": "2023-05-25T15:30:29.873112Z",
     "iopub.status.idle": "2023-05-25T15:30:29.921590Z",
     "shell.execute_reply": "2023-05-25T15:30:29.920585Z"
    },
    "papermill": {
     "duration": 0.060474,
     "end_time": "2023-05-25T15:30:29.924442",
     "exception": false,
     "start_time": "2023-05-25T15:30:29.863968",
     "status": "completed"
    },
    "tags": []
   },
   "outputs": [],
   "source": [
    "defog_metadata = pd.read_csv(\"/kaggle/input/tlvmc-parkinsons-freezing-gait-prediction/defog_metadata.csv\")\n",
    "\n",
    "subjects = pd.read_csv(\"/kaggle/input/tlvmc-parkinsons-freezing-gait-prediction/subjects.csv\")\n",
    "subjects[\"Visit\"] = subjects[\"Visit\"].fillna(1)\n",
    "subjects = subjects.drop_duplicates(subset=[\"Subject\", \"Visit\"])\n",
    "\n",
    "defog_metadata[\"Medication\"] = np.where(defog_metadata[\"Medication\"] == \"on\", 1, 0)\n",
    "defog_subject_dict = dict(zip(defog_metadata[\"Id\"], defog_metadata[\"Subject\"]))\n",
    "defog_medication_dict = dict(zip(defog_metadata[\"Id\"], defog_metadata[\"Medication\"]))\n",
    "defog_Id_Visit = dict(zip(defog_metadata[\"Id\"], defog_metadata[\"Visit\"]))\n",
    "defog_Id_Test  =dict(zip(defog_metadata[\"Id\"], np.zeros(defog_metadata.shape[0])))\n",
    "\n",
    "subjects[\"UPDRSIII_On\"] = subjects[\"UPDRSIII_On\"].fillna(0)\n",
    "subjects[\"UPDRSIII_Off\"] = subjects[\"UPDRSIII_Off\"].fillna(0)"
   ]
  },
  {
   "cell_type": "code",
   "execution_count": 4,
   "id": "96c944ab",
   "metadata": {
    "execution": {
     "iopub.execute_input": "2023-05-25T15:30:29.941519Z",
     "iopub.status.busy": "2023-05-25T15:30:29.941089Z",
     "iopub.status.idle": "2023-05-25T15:30:29.949627Z",
     "shell.execute_reply": "2023-05-25T15:30:29.948279Z"
    },
    "papermill": {
     "duration": 0.020367,
     "end_time": "2023-05-25T15:30:29.952380",
     "exception": false,
     "start_time": "2023-05-25T15:30:29.932013",
     "status": "completed"
    },
    "tags": []
   },
   "outputs": [],
   "source": [
    "def fix_invalid_events(df):\n",
    "    for e_type in [\"StartHesitation\", \"Turn\",'Walking']:\n",
    "        df.loc[(df[\"Valid\"] == False) | (df[\"Task\"] == False), e_type] = 0\n",
    "    return df\n",
    "\n",
    "def min_max_feature(df, feature):\n",
    "    new_feature = f\"precent_prograss_{feature}\"\n",
    "    df[new_feature] = (df[feature] - df[feature].min()) / (df[feature].max() - df[feature].min())\n",
    "    df[new_feature] = df[new_feature]                                                                                                     \n",
    "    return df\n"
   ]
  },
  {
   "cell_type": "code",
   "execution_count": 5,
   "id": "397055a0",
   "metadata": {
    "execution": {
     "iopub.execute_input": "2023-05-25T15:30:29.969663Z",
     "iopub.status.busy": "2023-05-25T15:30:29.968629Z",
     "iopub.status.idle": "2023-05-25T15:30:29.980918Z",
     "shell.execute_reply": "2023-05-25T15:30:29.980029Z"
    },
    "papermill": {
     "duration": 0.023639,
     "end_time": "2023-05-25T15:30:29.983430",
     "exception": false,
     "start_time": "2023-05-25T15:30:29.959791",
     "status": "completed"
    },
    "tags": []
   },
   "outputs": [],
   "source": [
    "def FE(df, is_td, isTest=False ):\n",
    "#     tdcsfog (128 timesteps per second)\n",
    "#     defog (100 timesteps per second).\n",
    "\n",
    "    if is_td:\n",
    "        second = 128\n",
    "    else:\n",
    "        second = 100\n",
    "\n",
    "    \n",
    "    if not isTest:\n",
    "        if \"Valid\" in df.columns:\n",
    "            df = fix_invalid_events(df)\n",
    "\n",
    "    for col in [\"Time\", \"AccV\", \"AccML\", \"AccAP\"]:\n",
    "        df = min_max_feature(df, col)\n",
    "    \n",
    "    #TODO TDFLEX FEATURES\n",
    "    basic_feats = MultipleFeatureDescriptors(\n",
    "        functions=seglearn_feature_dict_wrapper(base_features()),\n",
    "        series_names=['AccV', 'AccML', 'AccAP'],\n",
    "        windows=[5_000, 10_000],\n",
    "        strides=[5_000, 10_000],\n",
    "    )\n",
    "\n",
    "    emg_feats = emg_features()\n",
    "    del emg_feats['simple square integral'] # is same as abs_energy (which is in base_features)\n",
    "\n",
    "    emg_feats = MultipleFeatureDescriptors(\n",
    "        functions=seglearn_feature_dict_wrapper(emg_feats),\n",
    "        series_names=['AccV', 'AccML', 'AccAP'],\n",
    "        windows=[5_000, 10_000],\n",
    "        strides=[5_000, 10_000],\n",
    "    )\n",
    "\n",
    "    fc = FeatureCollection([basic_feats, emg_feats])\n",
    "    df_feats = fc.calculate(df, return_df=True, include_final_window=True, approve_sparsity=True, window_idx=\"begin\")\n",
    "    df = df.merge(df_feats, how=\"left\", left_index=True, right_index=True).fillna(method=\"ffill\")\n",
    "    \n",
    "    return df\n",
    "    "
   ]
  },
  {
   "cell_type": "code",
   "execution_count": 6,
   "id": "d42070c6",
   "metadata": {
    "execution": {
     "iopub.execute_input": "2023-05-25T15:30:30.000019Z",
     "iopub.status.busy": "2023-05-25T15:30:29.999566Z",
     "iopub.status.idle": "2023-05-25T15:30:30.008429Z",
     "shell.execute_reply": "2023-05-25T15:30:30.006974Z"
    },
    "papermill": {
     "duration": 0.020222,
     "end_time": "2023-05-25T15:30:30.010939",
     "exception": false,
     "start_time": "2023-05-25T15:30:29.990717",
     "status": "completed"
    },
    "tags": []
   },
   "outputs": [],
   "source": [
    "# Target\n",
    "def create_target(df):\n",
    "    class_dict = {0: \"StartHesitation\", 1: \"Turn\", 2:\"Walking\", 3:\"None\"}\n",
    "    df[\"target\"] = 3\n",
    "    df[\"target\"] = np.where(df[\"StartHesitation\"] == 1, 0, df[\"target\"] )\n",
    "    df[\"target\"] = np.where(df[\"Turn\"] == 1, 1, df[\"target\"] )\n",
    "    df[\"target\"] = np.where(df[\"Walking\"] == 1, 2, df[\"target\"] )\n",
    "    \n",
    "    df = df.drop([\"StartHesitation\", \"Turn\", \"Walking\"], axis = 1)\n",
    "    return df"
   ]
  },
  {
   "cell_type": "code",
   "execution_count": 7,
   "id": "cd3fd063",
   "metadata": {
    "execution": {
     "iopub.execute_input": "2023-05-25T15:30:30.027743Z",
     "iopub.status.busy": "2023-05-25T15:30:30.027304Z",
     "iopub.status.idle": "2023-05-25T15:30:30.036665Z",
     "shell.execute_reply": "2023-05-25T15:30:30.035384Z"
    },
    "papermill": {
     "duration": 0.020844,
     "end_time": "2023-05-25T15:30:30.039226",
     "exception": false,
     "start_time": "2023-05-25T15:30:30.018382",
     "status": "completed"
    },
    "tags": []
   },
   "outputs": [],
   "source": [
    "def down_sample_stf(df, n_splits):   \n",
    "    print(f\"before split df has: {df.shape[0]} rows, {df.Subject.nunique()} people\")\n",
    "    n_rows_init = df.shape[0]\n",
    "    n_subjects_init = df.Subject.nunique()\n",
    "    X = df.drop(\"target\", axis = 1)\n",
    "    y = df[\"target\"]\n",
    "    groups = df[\"Subject\"]\n",
    "    sgkf = StratifiedGroupKFold(n_splits=n_splits)\n",
    "    for i, (train_index, test_index) in enumerate(sgkf.split(X, y, groups)):\n",
    "        train = df.loc[train_index]\n",
    "        valid = df.loc[test_index]\n",
    "        break\n",
    "        \n",
    "    print(f\"after split train has: {train.shape[0]} rows and {train.Subject.nunique()} people\")\n",
    "    print(f\"valid has:{valid.shape[0]} rows and {valid.Subject.nunique()} people\")\n",
    "\n",
    "    return train, valid\n",
    "    "
   ]
  },
  {
   "cell_type": "code",
   "execution_count": 8,
   "id": "7a8057e7",
   "metadata": {
    "execution": {
     "iopub.execute_input": "2023-05-25T15:30:30.055945Z",
     "iopub.status.busy": "2023-05-25T15:30:30.055490Z",
     "iopub.status.idle": "2023-05-25T15:30:30.062144Z",
     "shell.execute_reply": "2023-05-25T15:30:30.060841Z"
    },
    "papermill": {
     "duration": 0.01807,
     "end_time": "2023-05-25T15:30:30.064639",
     "exception": false,
     "start_time": "2023-05-25T15:30:30.046569",
     "status": "completed"
    },
    "tags": []
   },
   "outputs": [],
   "source": [
    "def fix_dtypes(df):\n",
    "    df[\"StartHesitation\"] = df[\"StartHesitation\"].astype(\"bool\")\n",
    "    df[\"Turn\"] = df[\"Turn\"].dfstype(\"bool\")\n",
    "    df[\"Walking\"] = df[\"Walking\"].astype(\"bool\")\n",
    "    \n",
    "    return df\n"
   ]
  },
  {
   "cell_type": "code",
   "execution_count": 9,
   "id": "7b1f9e96",
   "metadata": {
    "execution": {
     "iopub.execute_input": "2023-05-25T15:30:30.081679Z",
     "iopub.status.busy": "2023-05-25T15:30:30.081253Z",
     "iopub.status.idle": "2023-05-25T15:30:30.089392Z",
     "shell.execute_reply": "2023-05-25T15:30:30.088123Z"
    },
    "papermill": {
     "duration": 0.019503,
     "end_time": "2023-05-25T15:30:30.091818",
     "exception": false,
     "start_time": "2023-05-25T15:30:30.072315",
     "status": "completed"
    },
    "tags": []
   },
   "outputs": [],
   "source": [
    "def flat_outliers(df):\n",
    "    for col in ['AccV','AccML','AccV']:\n",
    "        max_value = df[col].quantile(q=0.99)\n",
    "        min_value = df[col].quantile(q=0.01)\n",
    "        df[col] = np.where(df[col] > max_value, max_value, df[col])\n",
    "        df[col] = np.where(df[col] < min_value, min_value, df[col])\n",
    "    return df"
   ]
  },
  {
   "cell_type": "code",
   "execution_count": 10,
   "id": "315cd6ee",
   "metadata": {
    "execution": {
     "iopub.execute_input": "2023-05-25T15:30:30.108657Z",
     "iopub.status.busy": "2023-05-25T15:30:30.108220Z",
     "iopub.status.idle": "2023-05-25T15:30:30.127278Z",
     "shell.execute_reply": "2023-05-25T15:30:30.125857Z"
    },
    "papermill": {
     "duration": 0.031424,
     "end_time": "2023-05-25T15:30:30.130686",
     "exception": false,
     "start_time": "2023-05-25T15:30:30.099262",
     "status": "completed"
    },
    "tags": []
   },
   "outputs": [],
   "source": [
    "def reduce_memory_usage(df):\n",
    "    \n",
    "    start_mem = df.memory_usage().sum() / 1024**2\n",
    "    print('Memory usage of dataframe is {:.2f} MB'.format(start_mem))\n",
    "    \n",
    "    for col in df.columns:\n",
    "        col_type = df[col].dtype.name\n",
    "        if ((col_type != 'datetime64[ns]') & (col_type != 'category')):\n",
    "            if (col_type != 'object'):\n",
    "                c_min = df[col].min()\n",
    "                c_max = df[col].max()\n",
    "\n",
    "                if str(col_type)[:3] == 'int':\n",
    "                    if c_min > np.iinfo(np.int8).min and c_max < np.iinfo(np.int8).max:\n",
    "                        df[col] = df[col].astype(np.int8)\n",
    "                    elif c_min > np.iinfo(np.int16).min and c_max < np.iinfo(np.int16).max:\n",
    "                        df[col] = df[col].astype(np.int16)\n",
    "                    elif c_min > np.iinfo(np.int32).min and c_max < np.iinfo(np.int32).max:\n",
    "                        df[col] = df[col].astype(np.int32)\n",
    "                    elif c_min > np.iinfo(np.int64).min and c_max < np.iinfo(np.int64).max:\n",
    "                        df[col] = df[col].astype(np.int64)\n",
    "\n",
    "                else:\n",
    "                    if c_min > np.finfo(np.float16).min and c_max < np.finfo(np.float16).max:\n",
    "                        df[col] = df[col].astype(np.float16)\n",
    "                    elif c_min > np.finfo(np.float32).min and c_max < np.finfo(np.float32).max:\n",
    "                        df[col] = df[col].astype(np.float32)\n",
    "                    else:\n",
    "                        pass\n",
    "            else:\n",
    "                df[col] = df[col].astype('category')\n",
    "    mem_usg = df.memory_usage().sum() / 1024**2 \n",
    "    print(\"Memory usage became: \",mem_usg,\" MB\")\n",
    "    \n",
    "    return df\n",
    "#reference: https://www"
   ]
  },
  {
   "cell_type": "code",
   "execution_count": 11,
   "id": "fa1d96f2",
   "metadata": {
    "execution": {
     "iopub.execute_input": "2023-05-25T15:30:30.147646Z",
     "iopub.status.busy": "2023-05-25T15:30:30.147186Z",
     "iopub.status.idle": "2023-05-25T15:30:30.163655Z",
     "shell.execute_reply": "2023-05-25T15:30:30.162358Z"
    },
    "papermill": {
     "duration": 0.028483,
     "end_time": "2023-05-25T15:30:30.166685",
     "exception": false,
     "start_time": "2023-05-25T15:30:30.138202",
     "status": "completed"
    },
    "tags": []
   },
   "outputs": [],
   "source": [
    "def make_df(base,isTest=False, black_list = []):\n",
    "    train= pd.DataFrame()\n",
    "    if \"tdcsfog\" in base:\n",
    "        is_td = True\n",
    "    else:\n",
    "        is_td = False\n",
    "    \n",
    "    for train_path in tqdm(os.listdir(base)):\n",
    "        file_path = base + '/'+train_path\n",
    "        df = pd.read_csv(file_path)\n",
    "        df_time = df[\"Time\"].copy()\n",
    "        df = df.set_index(\"Time\")\n",
    "        df[\"Time\"] = df_time\n",
    "        df = flat_outliers(df)\n",
    "        df = FE(df, is_td)\n",
    "        if not isTest:\n",
    "            df = create_target(df)\n",
    "        df[\"file\"] = train_path.split(\".\")[0]\n",
    "        df[\"id\"] = df[\"file\"].astype(\"str\") + \"_\" + df[\"Time\"].astype(\"str\")\n",
    "        \n",
    "        dot_index = train_path.index(\".\")\n",
    "        file_id = train_path[:dot_index]\n",
    "        \n",
    "        if \"tdcsfog\" in base:\n",
    "            df[\"Subject\"] = tdcsfog_subject_dict[file_id]\n",
    "            df[\"Medication\"] =  tdcsfog_medication_dict[file_id]\n",
    "            df[\"Visit\"] = tdcsfog_Id_Visit[file_id]\n",
    "            df[\"Test_level\"] =tdcsfog_Id_Test[file_id]\n",
    "\n",
    "        else:\n",
    "            df[\"Subject\"] = defog_subject_dict[file_id]\n",
    "            df[\"Medication\"] = defog_medication_dict[file_id]\n",
    "            df[\"Visit\"] = defog_Id_Visit[file_id]\n",
    "            df[\"Test_level\"] =defog_Id_Test[file_id]\n",
    "\n",
    "        if train.shape[0] == 0:\n",
    "            cur_black_list = [c for c in black_list if c in df.columns]\n",
    "        train = train.append(df.drop(cur_black_list, axis = 1))\n",
    "        del df\n",
    "        gc.collect()\n",
    "\n",
    "    train = reduce_memory_usage(train)\n",
    "    train.reset_index(drop=True, inplace=True)\n",
    "#     train = train.reset_index(drop=True)\n",
    "        \n",
    "    return train"
   ]
  },
  {
   "cell_type": "code",
   "execution_count": 12,
   "id": "d34b6063",
   "metadata": {
    "execution": {
     "iopub.execute_input": "2023-05-25T15:30:30.183712Z",
     "iopub.status.busy": "2023-05-25T15:30:30.183259Z",
     "iopub.status.idle": "2023-05-25T15:40:30.836504Z",
     "shell.execute_reply": "2023-05-25T15:40:30.834928Z"
    },
    "papermill": {
     "duration": 600.680043,
     "end_time": "2023-05-25T15:40:30.854221",
     "exception": false,
     "start_time": "2023-05-25T15:30:30.174178",
     "status": "completed"
    },
    "tags": []
   },
   "outputs": [
    {
     "name": "stderr",
     "output_type": "stream",
     "text": [
      "100%|██████████| 91/91 [06:45<00:00,  4.45s/it]\n"
     ]
    },
    {
     "name": "stdout",
     "output_type": "stream",
     "text": [
      "Memory usage of dataframe is 8900.39 MB\n",
      "Memory usage became:  2941.03759765625  MB\n"
     ]
    }
   ],
   "source": [
    "defog_train = make_df(\"/kaggle/input/tlvmc-parkinsons-freezing-gait-prediction/train/defog\", black_list=black_list)"
   ]
  },
  {
   "cell_type": "code",
   "execution_count": 13,
   "id": "0ca81aa6",
   "metadata": {
    "execution": {
     "iopub.execute_input": "2023-05-25T15:40:30.888814Z",
     "iopub.status.busy": "2023-05-25T15:40:30.888319Z",
     "iopub.status.idle": "2023-05-25T15:41:47.853286Z",
     "shell.execute_reply": "2023-05-25T15:41:47.851970Z"
    },
    "papermill": {
     "duration": 76.985655,
     "end_time": "2023-05-25T15:41:47.856258",
     "exception": false,
     "start_time": "2023-05-25T15:40:30.870603",
     "status": "completed"
    },
    "tags": []
   },
   "outputs": [
    {
     "name": "stdout",
     "output_type": "stream",
     "text": [
      "before split df has: 13525702 rows, 38 people\n",
      "after split train has: 10136077 rows and 28 people\n",
      "valid has:3389625 rows and 10 people\n",
      "(10136077, 87)\n",
      "(3389625, 87)\n",
      "(10136077, 93)\n",
      "(3389625, 93)\n",
      "train nans: 0\n"
     ]
    },
    {
     "data": {
      "text/plain": [
       "Series([], dtype: int64)"
      ]
     },
     "execution_count": 13,
     "metadata": {},
     "output_type": "execute_result"
    }
   ],
   "source": [
    "train, valid = down_sample_stf(defog_train, 4)\n",
    "del defog_train\n",
    "gc.collect()\n",
    "\n",
    "print(train.shape)\n",
    "print(valid.shape)\n",
    "\n",
    "# merging only on Subject because Visit is relevant for defog only\n",
    "train = train.merge(subjects, on=[\"Subject\",\"Visit\"], how=\"left\")\n",
    "train['Sex'] = np.where(train['Sex'] == \"M\", 1, 0)\n",
    "\n",
    "valid = valid.merge(subjects, on=[\"Subject\",\"Visit\"], how=\"left\")\n",
    "valid['Sex'] = np.where(valid['Sex'] == \"M\", 1, 0)\n",
    "\n",
    "del subjects\n",
    "\n",
    "print(train.shape)\n",
    "print(valid.shape)\n",
    "\n",
    "print(f\"train nans: {train.isna().sum().sum()}\")\n",
    "isn = train.isna().sum()\n",
    "isn[isn > 0]"
   ]
  },
  {
   "cell_type": "code",
   "execution_count": 14,
   "id": "a86bda38",
   "metadata": {
    "execution": {
     "iopub.execute_input": "2023-05-25T15:41:47.897377Z",
     "iopub.status.busy": "2023-05-25T15:41:47.896933Z",
     "iopub.status.idle": "2023-05-25T15:41:50.471644Z",
     "shell.execute_reply": "2023-05-25T15:41:50.470388Z"
    },
    "papermill": {
     "duration": 2.595601,
     "end_time": "2023-05-25T15:41:50.474332",
     "exception": false,
     "start_time": "2023-05-25T15:41:47.878731",
     "status": "completed"
    },
    "tags": []
   },
   "outputs": [
    {
     "name": "stdout",
     "output_type": "stream",
     "text": [
      "valid nans: 0\n"
     ]
    },
    {
     "data": {
      "text/plain": [
       "Series([], dtype: int64)"
      ]
     },
     "execution_count": 14,
     "metadata": {},
     "output_type": "execute_result"
    }
   ],
   "source": [
    "print(f\"valid nans: {valid.isna().sum().sum()}\")\n",
    "isn = valid.isna().sum()\n",
    "isn[isn > 0]"
   ]
  },
  {
   "cell_type": "code",
   "execution_count": 15,
   "id": "4d21fbf4",
   "metadata": {
    "execution": {
     "iopub.execute_input": "2023-05-25T15:41:50.509573Z",
     "iopub.status.busy": "2023-05-25T15:41:50.509110Z",
     "iopub.status.idle": "2023-05-25T15:42:21.123339Z",
     "shell.execute_reply": "2023-05-25T15:42:21.121903Z"
    },
    "papermill": {
     "duration": 30.653504,
     "end_time": "2023-05-25T15:42:21.144445",
     "exception": false,
     "start_time": "2023-05-25T15:41:50.490941",
     "status": "completed"
    },
    "tags": []
   },
   "outputs": [
    {
     "name": "stdout",
     "output_type": "stream",
     "text": [
      "Memory usage of dataframe is 2890.83 MB\n",
      "Memory usage became:  2446.1684732437134  MB\n",
      "Memory usage of dataframe is 1378.86 MB\n",
      "Memory usage became:  1230.1570978164673  MB\n"
     ]
    },
    {
     "data": {
      "text/plain": [
       "0"
      ]
     },
     "execution_count": 15,
     "metadata": {},
     "output_type": "execute_result"
    }
   ],
   "source": [
    "train = reduce_memory_usage(train)\n",
    "valid = reduce_memory_usage(valid)\n",
    "gc.collect()\n"
   ]
  },
  {
   "cell_type": "code",
   "execution_count": 16,
   "id": "c4249a88",
   "metadata": {
    "execution": {
     "iopub.execute_input": "2023-05-25T15:42:21.180817Z",
     "iopub.status.busy": "2023-05-25T15:42:21.179955Z",
     "iopub.status.idle": "2023-05-25T15:42:41.231615Z",
     "shell.execute_reply": "2023-05-25T15:42:41.229999Z"
    },
    "papermill": {
     "duration": 20.075622,
     "end_time": "2023-05-25T15:42:41.236786",
     "exception": false,
     "start_time": "2023-05-25T15:42:21.161164",
     "status": "completed"
    },
    "tags": []
   },
   "outputs": [],
   "source": [
    "pickle.dump(train.reset_index(drop=True), open(\"train_de.pkl\", \"wb\"))\n",
    "pickle.dump(valid.reset_index(drop=True), open(\"valid_de.pkl\", \"wb\"))"
   ]
  }
 ],
 "metadata": {
  "kernelspec": {
   "display_name": "Python 3",
   "language": "python",
   "name": "python3"
  },
  "language_info": {
   "codemirror_mode": {
    "name": "ipython",
    "version": 3
   },
   "file_extension": ".py",
   "mimetype": "text/x-python",
   "name": "python",
   "nbconvert_exporter": "python",
   "pygments_lexer": "ipython3",
   "version": "3.7.12"
  },
  "papermill": {
   "default_parameters": {},
   "duration": 779.629213,
   "end_time": "2023-05-25T15:42:43.296417",
   "environment_variables": {},
   "exception": null,
   "input_path": "__notebook__.ipynb",
   "output_path": "__notebook__.ipynb",
   "parameters": {},
   "start_time": "2023-05-25T15:29:43.667204",
   "version": "2.4.0"
  }
 },
 "nbformat": 4,
 "nbformat_minor": 5
}
