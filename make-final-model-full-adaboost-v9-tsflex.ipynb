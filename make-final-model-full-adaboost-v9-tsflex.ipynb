{
 "cells": [
  {
   "cell_type": "code",
   "execution_count": 1,
   "id": "0a46321e",
   "metadata": {
    "_cell_guid": "4b858ea0-e96e-4ed3-92a0-94b138b1e88e",
    "_uuid": "7516946b-845f-4fe9-aa37-2fd8be378b1a",
    "collapsed": false,
    "execution": {
     "iopub.execute_input": "2023-05-29T22:31:17.386915Z",
     "iopub.status.busy": "2023-05-29T22:31:17.386574Z",
     "iopub.status.idle": "2023-05-29T22:31:20.931306Z",
     "shell.execute_reply": "2023-05-29T22:31:20.930116Z"
    },
    "jupyter": {
     "outputs_hidden": false
    },
    "papermill": {
     "duration": 3.552537,
     "end_time": "2023-05-29T22:31:20.934204",
     "exception": false,
     "start_time": "2023-05-29T22:31:17.381667",
     "status": "completed"
    },
    "tags": []
   },
   "outputs": [
    {
     "data": {
      "text/html": [
       "<style type='text/css'>\n",
       ".datatable table.frame { margin-bottom: 0; }\n",
       ".datatable table.frame thead { border-bottom: none; }\n",
       ".datatable table.frame tr.coltypes td {  color: #FFFFFF;  line-height: 6px;  padding: 0 0.5em;}\n",
       ".datatable .bool    { background: #DDDD99; }\n",
       ".datatable .object  { background: #565656; }\n",
       ".datatable .int     { background: #5D9E5D; }\n",
       ".datatable .float   { background: #4040CC; }\n",
       ".datatable .str     { background: #CC4040; }\n",
       ".datatable .time    { background: #40CC40; }\n",
       ".datatable .row_index {  background: var(--jp-border-color3);  border-right: 1px solid var(--jp-border-color0);  color: var(--jp-ui-font-color3);  font-size: 9px;}\n",
       ".datatable .frame tbody td { text-align: left; }\n",
       ".datatable .frame tr.coltypes .row_index {  background: var(--jp-border-color0);}\n",
       ".datatable th:nth-child(2) { padding-left: 12px; }\n",
       ".datatable .hellipsis {  color: var(--jp-cell-editor-border-color);}\n",
       ".datatable .vellipsis {  background: var(--jp-layout-color0);  color: var(--jp-cell-editor-border-color);}\n",
       ".datatable .na {  color: var(--jp-cell-editor-border-color);  font-size: 80%;}\n",
       ".datatable .sp {  opacity: 0.25;}\n",
       ".datatable .footer { font-size: 9px; }\n",
       ".datatable .frame_dimensions {  background: var(--jp-border-color3);  border-top: 1px solid var(--jp-border-color0);  color: var(--jp-ui-font-color3);  display: inline-block;  opacity: 0.6;  padding: 1px 10px 1px 5px;}\n",
       "</style>\n"
      ],
      "text/plain": [
       "<IPython.core.display.HTML object>"
      ]
     },
     "metadata": {},
     "output_type": "display_data"
    }
   ],
   "source": [
    "import numpy as np # linear algebra\n",
    "import pandas as pd # data processing, CSV file I/O (e.g. pd.read_csv)\n",
    "\n",
    "import plotly.express as px\n",
    "from plotly.subplots import make_subplots\n",
    "import plotly.graph_objects as go\n",
    "\n",
    "import os\n",
    "\n",
    "import pickle\n",
    "\n",
    "from tqdm import tqdm\n",
    "\n",
    "import lightgbm\n",
    "import xgboost\n",
    "from sklearn.ensemble import RandomForestClassifier\n",
    "from sklearn.ensemble import AdaBoostClassifier \n",
    "\n",
    "import catboost\n",
    "import gc\n",
    "import random\n",
    "random.seed(2233)\n",
    "\n",
    "# for ens X\n",
    "from sklearn.metrics import average_precision_score \n",
    "from sklearn.model_selection import GroupKFold\n",
    "from sklearn.model_selection import StratifiedGroupKFold\n",
    "from sklearn.model_selection import StratifiedShuffleSplit\n",
    "\n",
    "import matplotlib.pyplot as plt"
   ]
  },
  {
   "cell_type": "code",
   "execution_count": 2,
   "id": "0d44ed26",
   "metadata": {
    "_cell_guid": "3337edfd-3ca1-404e-aae4-420eb4a8aa23",
    "_uuid": "b2ab7600-a969-4f0f-9b44-6e025cae43b1",
    "collapsed": false,
    "execution": {
     "iopub.execute_input": "2023-05-29T22:31:20.942321Z",
     "iopub.status.busy": "2023-05-29T22:31:20.941962Z",
     "iopub.status.idle": "2023-05-29T22:32:36.011272Z",
     "shell.execute_reply": "2023-05-29T22:32:36.009386Z"
    },
    "jupyter": {
     "outputs_hidden": false
    },
    "papermill": {
     "duration": 75.079747,
     "end_time": "2023-05-29T22:32:36.017146",
     "exception": false,
     "start_time": "2023-05-29T22:31:20.937399",
     "status": "completed"
    },
    "tags": []
   },
   "outputs": [],
   "source": [
    "MODEL = \"adaboost\"\n",
    "all_cols = ['target', 'Subject', 'AccAP__std__w=5000', 'AccV__maximum__w=5000', 'AccAP__var__w=5000', 'AccML__maximum__w=5000', 'precent_prograss_AccAP', 'AccML__kurt__w=5000', 'AccV__std__w=5000', 'AccAP__kurt__w=5000', 'Visit', 'AccV__mean_crossings__w=5000', 'precent_prograss_AccV', 'precent_prograss_Time', 'AccV__var__w=5000', 'AccAP__slope_sign_changes__w=5000', 'AccML__mean_crossings__w=5000', 'AccV__slope_sign_changes__w=5000', 'id', 'AccAP__mean_crossings__w=5000', 'AccAP__maximum__w=5000', 'AccV__kurt__w=5000', 'AccML__std__w=5000', 'AccML__slope_sign_changes__w=5000', 'AccAP__abs_energy__w=10000', 'AccML__abs_energy__w=10000', 'AccV__abs_energy__w=10000', 'AccAP__mean_abs__w=10000', 'AccV__mean_abs__w=10000', 'AccAP__willison_amplitude__w=10000', 'AccML__willison_amplitude__w=10000', 'AccV__willison_amplitude__w=10000']\n",
    "parms = {'n_estimators': 121, 'learning_rate': 0.018538064346187724}\n",
    "\n",
    "de_train = pd.read_pickle(\"/kaggle/input/make-data-tsflex-v9-de/train_de.pkl\")[all_cols]\n",
    "td_train = pd.read_pickle(\"/kaggle/input/make-data-v9-tsflex-td/train_td.pkl\")[all_cols]\n",
    "\n",
    "de_valid = pd.read_pickle(\"/kaggle/input/make-data-tsflex-v9-de/valid_de.pkl\")[all_cols]\n",
    "td_valid = pd.read_pickle(\"/kaggle/input/make-data-v9-tsflex-td/valid_td.pkl\")[all_cols]\n",
    "\n",
    "td_train[\"Valid\"] = 1\n",
    "td_train[\"Task\"] = 1\n",
    "\n",
    "td_valid[\"Valid\"] = 1\n",
    "td_valid[\"Task\"] = 1\n",
    "\n",
    "df_for_cv =  de_train.append(td_train).reset_index(drop=True)\n",
    "df_for_sub = df_for_cv.append(de_valid).append(td_valid).reset_index(drop=True)\n",
    "\n",
    "# folds_train_indexes_cv = pickle.load(open(\"/kaggle/input/v9-make-folds/folds_train_indexs_cv.pkl\",\"rb\"))\n",
    "# folds_train_indexes_full = pickle.load(open(\"/kaggle/input/v9-make-folds/folds_train_indexs_full.pkl\",\"rb\"))\n",
    "\n",
    "# folds_valid_indexes_cv = pickle.load(open(\"/kaggle/input/v9-make-folds/folds_valid_indexs_cv.pkl\",\"rb\"))\n",
    "# folds_valid_indexes_full = pickle.load(open(\"/kaggle/input/v9-make-folds/folds_valid_indexs_full.pkl\",\"rb\"))"
   ]
  },
  {
   "cell_type": "code",
   "execution_count": 3,
   "id": "592dec1e",
   "metadata": {
    "execution": {
     "iopub.execute_input": "2023-05-29T22:32:36.028108Z",
     "iopub.status.busy": "2023-05-29T22:32:36.027695Z",
     "iopub.status.idle": "2023-05-29T22:32:36.032926Z",
     "shell.execute_reply": "2023-05-29T22:32:36.031694Z"
    },
    "papermill": {
     "duration": 0.013032,
     "end_time": "2023-05-29T22:32:36.035599",
     "exception": false,
     "start_time": "2023-05-29T22:32:36.022567",
     "status": "completed"
    },
    "tags": []
   },
   "outputs": [],
   "source": [
    "# # angry work-around\n",
    "# def angry_workaround(df, indexs):\n",
    "#     for fold in range(len(indexs)):\n",
    "#         df.loc[indexs[fold][0], \"target\"] = 0    \n",
    "#         df.loc[indexs[fold][1], \"target\"] = 1 \n",
    "#         df.loc[indexs[fold][2], \"target\"] = 2    \n",
    "#         df.loc[indexs[fold][3], \"target\"] = 3\n",
    "#     return df\n",
    "\n",
    "\n",
    "# df_for_cv = angry_workaround(df_for_cv, folds_train_indexes_cv)\n",
    "# df_for_sub = angry_workaround(df_for_sub, folds_train_indexes_full)"
   ]
  },
  {
   "cell_type": "code",
   "execution_count": 4,
   "id": "75c15e96",
   "metadata": {
    "execution": {
     "iopub.execute_input": "2023-05-29T22:32:36.044265Z",
     "iopub.status.busy": "2023-05-29T22:32:36.043065Z",
     "iopub.status.idle": "2023-05-29T22:32:36.047860Z",
     "shell.execute_reply": "2023-05-29T22:32:36.046953Z"
    },
    "papermill": {
     "duration": 0.011141,
     "end_time": "2023-05-29T22:32:36.049939",
     "exception": false,
     "start_time": "2023-05-29T22:32:36.038798",
     "status": "completed"
    },
    "tags": []
   },
   "outputs": [],
   "source": [
    "# folds_train_indexs_full = pickle.load(open(\"/kaggle/input/v9-make-folds/folds_train_indexs_full.pkl\", \"rb\"))\n",
    "# train_ind = set([])\n",
    "# for ele in folds_train_indexs_full:\n",
    "#     for ind in ele:\n",
    "#         train_ind.add(ind)\n",
    "# relevant_ind = list(train_ind)\n",
    "\n",
    "# df_for_sub = df_for_sub.loc[relevant_ind]"
   ]
  },
  {
   "cell_type": "code",
   "execution_count": 5,
   "id": "72be5087",
   "metadata": {
    "_cell_guid": "b8246e0c-cdb1-4e17-aff7-9f10ff2a0094",
    "_uuid": "827843f5-438a-44d6-b276-c67e848962b3",
    "collapsed": false,
    "execution": {
     "iopub.execute_input": "2023-05-29T22:32:36.058441Z",
     "iopub.status.busy": "2023-05-29T22:32:36.057780Z",
     "iopub.status.idle": "2023-05-29T22:32:36.066377Z",
     "shell.execute_reply": "2023-05-29T22:32:36.065513Z"
    },
    "jupyter": {
     "outputs_hidden": false
    },
    "papermill": {
     "duration": 0.01603,
     "end_time": "2023-05-29T22:32:36.069399",
     "exception": false,
     "start_time": "2023-05-29T22:32:36.053369",
     "status": "completed"
    },
    "tags": []
   },
   "outputs": [],
   "source": [
    "def get_model(parms= None, model_name=\"lgbm\"):\n",
    "    if model_name == \"lgbm\":\n",
    "        if parms is None:\n",
    "            model = lightgbm.LGBMClassifier()\n",
    "        else:\n",
    "            model = lightgbm.LGBMClassifier(**parms)\n",
    "    elif model_name == \"rf\":\n",
    "        if parms is None:\n",
    "            model = RandomForestClassifier()\n",
    "        else:\n",
    "            model = RandomForestClassifier(**parms)     \n",
    "            \n",
    "    elif model_name == \"xgboost\":\n",
    "        if parms is None:\n",
    "            model = xgboost.XGBClassifier()\n",
    "        else:\n",
    "            model = xgboost.XGBClassifier(**parms) \n",
    "            \n",
    "    elif model_name == \"catboost\":\n",
    "        if parms is None:\n",
    "            model = catboost.CatBoostClassifier()\n",
    "        else:\n",
    "            model = catboost.CatBoostClassifier(**parms) \n",
    "            \n",
    "    elif model_name == \"adaboost\":\n",
    "        if parms is None:\n",
    "            model = AdaBoostClassifier()\n",
    "        else:\n",
    "            model = AdaBoostClassifier(**parms)\n",
    "            \n",
    "    return model"
   ]
  },
  {
   "cell_type": "code",
   "execution_count": 6,
   "id": "d762e4f8",
   "metadata": {
    "_cell_guid": "f48524f2-2d0c-4bb4-9d4e-f8dea5fc2707",
    "_uuid": "e4b5e881-ebf1-42df-938c-05dd313c73a9",
    "collapsed": false,
    "execution": {
     "iopub.execute_input": "2023-05-29T22:32:36.077580Z",
     "iopub.status.busy": "2023-05-29T22:32:36.077145Z",
     "iopub.status.idle": "2023-05-29T22:32:36.085883Z",
     "shell.execute_reply": "2023-05-29T22:32:36.084591Z"
    },
    "jupyter": {
     "outputs_hidden": false
    },
    "papermill": {
     "duration": 0.015361,
     "end_time": "2023-05-29T22:32:36.088154",
     "exception": false,
     "start_time": "2023-05-29T22:32:36.072793",
     "status": "completed"
    },
    "tags": []
   },
   "outputs": [],
   "source": [
    "def fix_y(y):\n",
    "    return y - 1 # (1,2,3) -> (0,1,2)\n",
    "\n",
    "def fit_save(train_X,train_y, train_cols, cv_or_full,parms= None, model_name=\"lgbm\"):\n",
    "    no_train_cols = [\"Time\",\"Valid\",\"Task\",'Subject','file', 'id', 'target']    \n",
    "    train_cols = [c for c in train_cols if c not in no_train_cols]\n",
    "    \n",
    "    model = get_model(parms, model_name)\n",
    "    no_sh = False\n",
    "    \n",
    "    if set(train_y.unique()) == set([1,2,3]): # no SH\n",
    "        train_y = fix_y(train_y)\n",
    "        no_sh = True\n",
    "    gc.collect()\n",
    "    model.fit(train_X[train_cols], train_y)\n",
    "    gc.collect()\n",
    "    model_dict = {\"model_name\" : model_name,\n",
    "                 \"model\": model,\n",
    "                 \"parms\": parms,\n",
    "                 \"features\": train_cols}\n",
    "    pickle.dump(model_dict, open(f\"model_dict_{model_name}_{cv_or_full}.pkl\", \"wb\"))"
   ]
  },
  {
   "cell_type": "code",
   "execution_count": 7,
   "id": "a03698df",
   "metadata": {
    "_cell_guid": "e27e8dda-4dc6-4eae-b1f8-0b65ef8f0867",
    "_uuid": "2ed0946f-e41f-486d-ab76-7b26a28c77f1",
    "collapsed": false,
    "execution": {
     "iopub.execute_input": "2023-05-29T22:32:36.096254Z",
     "iopub.status.busy": "2023-05-29T22:32:36.095355Z",
     "iopub.status.idle": "2023-05-29T22:32:36.100747Z",
     "shell.execute_reply": "2023-05-29T22:32:36.099300Z"
    },
    "jupyter": {
     "outputs_hidden": false
    },
    "papermill": {
     "duration": 0.011676,
     "end_time": "2023-05-29T22:32:36.102895",
     "exception": false,
     "start_time": "2023-05-29T22:32:36.091219",
     "status": "completed"
    },
    "tags": []
   },
   "outputs": [],
   "source": [
    "#print(f\"fit_save_{MODEL}_for_CV\")\n",
    "#fit_save(df_for_cv,df_for_cv[\"target\"], train_cols=all_cols, parms= parms, model_name=MODEL, cv_or_full = \"cv\")\n",
    "\n",
    "# print(f\"Make_ENS_Xy_{MODEL}_for_CV\")\n",
    "# preds, gt = pipeline(df_for_cv, all_cols, folds=5, parms=parms, model_name=MODEL, cv_or_full = \"cv\")"
   ]
  },
  {
   "cell_type": "code",
   "execution_count": 8,
   "id": "4ec432bd",
   "metadata": {
    "_cell_guid": "b4031072-90fe-4a41-a058-f353b097533c",
    "_uuid": "b076d47c-ef65-4c12-875e-16831638b2b0",
    "execution": {
     "iopub.execute_input": "2023-05-29T22:32:36.110425Z",
     "iopub.status.busy": "2023-05-29T22:32:36.110069Z",
     "iopub.status.idle": "2023-05-29T23:45:18.451680Z",
     "shell.execute_reply": "2023-05-29T23:45:18.450088Z"
    },
    "papermill": {
     "duration": 4362.353261,
     "end_time": "2023-05-29T23:45:18.459313",
     "exception": false,
     "start_time": "2023-05-29T22:32:36.106052",
     "status": "completed"
    },
    "tags": []
   },
   "outputs": [
    {
     "name": "stdout",
     "output_type": "stream",
     "text": [
      "fit_save_adaboost_for_submission\n"
     ]
    }
   ],
   "source": [
    "print(f\"fit_save_{MODEL}_for_submission\")\n",
    "fit_save(df_for_sub,df_for_sub[\"target\"], train_cols=all_cols, parms= parms, model_name=MODEL, cv_or_full = \"full\")\n",
    "\n",
    "# print(f\"Make_ENS_Xy_{MODEL}_for_submission\")\n",
    "# preds, gt = pipeline(df_for_sub, all_cols, folds_total=folds_total, folds_start=folds_start,folds_end=folds_end,\n",
    "#                      train_folds_list=folds_train_indexes_full , valid_folds_list= folds_valid_indexes_full, parms=parms, model_name=MODEL, cv_or_full = \"full\")\n"
   ]
  }
 ],
 "metadata": {
  "kernelspec": {
   "display_name": "Python 3",
   "language": "python",
   "name": "python3"
  },
  "language_info": {
   "codemirror_mode": {
    "name": "ipython",
    "version": 3
   },
   "file_extension": ".py",
   "mimetype": "text/x-python",
   "name": "python",
   "nbconvert_exporter": "python",
   "pygments_lexer": "ipython3",
   "version": "3.7.12"
  },
  "papermill": {
   "default_parameters": {},
   "duration": 4453.648087,
   "end_time": "2023-05-29T23:45:21.303804",
   "environment_variables": {},
   "exception": null,
   "input_path": "__notebook__.ipynb",
   "output_path": "__notebook__.ipynb",
   "parameters": {},
   "start_time": "2023-05-29T22:31:07.655717",
   "version": "2.4.0"
  }
 },
 "nbformat": 4,
 "nbformat_minor": 5
}
