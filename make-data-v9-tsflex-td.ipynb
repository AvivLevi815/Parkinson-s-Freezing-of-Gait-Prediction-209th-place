{
 "cells": [
  {
   "cell_type": "code",
   "execution_count": 1,
   "id": "b918bc01",
   "metadata": {
    "_cell_guid": "b1076dfc-b9ad-4769-8c92-a6c4dae69d19",
    "_uuid": "8f2839f25d086af736a60e9eeb907d3b93b6e0e5",
    "execution": {
     "iopub.execute_input": "2023-05-26T11:47:38.647590Z",
     "iopub.status.busy": "2023-05-26T11:47:38.647181Z",
     "iopub.status.idle": "2023-05-26T11:48:11.235692Z",
     "shell.execute_reply": "2023-05-26T11:48:11.234503Z"
    },
    "papermill": {
     "duration": 32.601806,
     "end_time": "2023-05-26T11:48:11.239218",
     "exception": false,
     "start_time": "2023-05-26T11:47:38.637412",
     "status": "completed"
    },
    "tags": []
   },
   "outputs": [
    {
     "name": "stdout",
     "output_type": "stream",
     "text": [
      "Looking in links: file:///kaggle/input/tsflex\r\n",
      "Processing /kaggle/input/tsflex/tsflex-0.3.0-py3-none-any.whl\r\n",
      "Requirement already satisfied: dill<0.4.0,>=0.3.4 in /opt/conda/lib/python3.7/site-packages (from tsflex) (0.3.6)\r\n",
      "Requirement already satisfied: multiprocess<0.71.0,>=0.70.12 in /opt/conda/lib/python3.7/site-packages (from tsflex) (0.70.14)\r\n",
      "Requirement already satisfied: numpy<2.0.0,>=1.21.5 in /opt/conda/lib/python3.7/site-packages (from tsflex) (1.21.6)\r\n",
      "Requirement already satisfied: tqdm<5.0.0,>=4.62.3 in /opt/conda/lib/python3.7/site-packages (from tsflex) (4.64.1)\r\n",
      "Requirement already satisfied: pandas<2.0.0,>=1.3.5 in /opt/conda/lib/python3.7/site-packages (from tsflex) (1.3.5)\r\n",
      "Requirement already satisfied: pytz>=2017.3 in /opt/conda/lib/python3.7/site-packages (from pandas<2.0.0,>=1.3.5->tsflex) (2022.7.1)\r\n",
      "Requirement already satisfied: python-dateutil>=2.7.3 in /opt/conda/lib/python3.7/site-packages (from pandas<2.0.0,>=1.3.5->tsflex) (2.8.2)\r\n",
      "Requirement already satisfied: six>=1.5 in /opt/conda/lib/python3.7/site-packages (from python-dateutil>=2.7.3->pandas<2.0.0,>=1.3.5->tsflex) (1.16.0)\r\n",
      "Installing collected packages: tsflex\r\n",
      "Successfully installed tsflex-0.3.0\r\n",
      "\u001b[33mWARNING: Running pip as the 'root' user can result in broken permissions and conflicting behaviour with the system package manager. It is recommended to use a virtual environment instead: https://pip.pypa.io/warnings/venv\u001b[0m\u001b[33m\r\n",
      "\u001b[0mLooking in links: file:///kaggle/input/segalearn\r\n",
      "Processing /kaggle/input/segalearn/seglearn-1.2.5-py3-none-any.whl\r\n",
      "Requirement already satisfied: scipy in /opt/conda/lib/python3.7/site-packages (from seglearn) (1.7.3)\r\n",
      "Requirement already satisfied: scikit-learn>=0.21.3 in /opt/conda/lib/python3.7/site-packages (from seglearn) (1.0.2)\r\n",
      "Requirement already satisfied: numpy in /opt/conda/lib/python3.7/site-packages (from seglearn) (1.21.6)\r\n",
      "Requirement already satisfied: threadpoolctl>=2.0.0 in /opt/conda/lib/python3.7/site-packages (from scikit-learn>=0.21.3->seglearn) (3.1.0)\r\n",
      "Requirement already satisfied: joblib>=0.11 in /opt/conda/lib/python3.7/site-packages (from scikit-learn>=0.21.3->seglearn) (1.2.0)\r\n",
      "Installing collected packages: seglearn\r\n",
      "Successfully installed seglearn-1.2.5\r\n",
      "\u001b[33mWARNING: Running pip as the 'root' user can result in broken permissions and conflicting behaviour with the system package manager. It is recommended to use a virtual environment instead: https://pip.pypa.io/warnings/venv\u001b[0m\u001b[33m\r\n",
      "\u001b[0m"
     ]
    }
   ],
   "source": [
    "import numpy as np # linear algebra\n",
    "import pandas as pd # data processing, CSV file I/O (e.g. pd.read_csv)\n",
    "pd.set_option(\"max_columns\", 50)\n",
    "import plotly.express as px\n",
    "from plotly.subplots import make_subplots\n",
    "import plotly.graph_objects as go\n",
    "\n",
    "import os\n",
    "\n",
    "import pickle\n",
    "\n",
    "from IPython.core.debugger import set_trace\n",
    "from tqdm import tqdm\n",
    "\n",
    "from IPython.core.debugger import set_trace\n",
    "import gc\n",
    "from sklearn.model_selection import StratifiedGroupKFold\n",
    "# Install tsflex and seglearn\n",
    "!pip install tsflex --no-index --find-links=file:///kaggle/input/tsflex\n",
    "!pip install seglearn --no-index --find-links=file:///kaggle/input/segalearn\n",
    "\n",
    "\n",
    "from seglearn.feature_functions import base_features, emg_features\n",
    "\n",
    "from tsflex.features import FeatureCollection, MultipleFeatureDescriptors\n",
    "from tsflex.features.integrations import seglearn_feature_dict_wrapper\n"
   ]
  },
  {
   "cell_type": "code",
   "execution_count": 2,
   "id": "970f699a",
   "metadata": {
    "execution": {
     "iopub.execute_input": "2023-05-26T11:48:11.258196Z",
     "iopub.status.busy": "2023-05-26T11:48:11.256095Z",
     "iopub.status.idle": "2023-05-26T11:48:11.272415Z",
     "shell.execute_reply": "2023-05-26T11:48:11.271303Z"
    },
    "papermill": {
     "duration": 0.028251,
     "end_time": "2023-05-26T11:48:11.275151",
     "exception": false,
     "start_time": "2023-05-26T11:48:11.246900",
     "status": "completed"
    },
    "tags": []
   },
   "outputs": [],
   "source": [
    "black_list = pickle.load(open(\"/kaggle/input/black-list-v8-1/black_list.pkl\", \"rb\"))"
   ]
  },
  {
   "cell_type": "code",
   "execution_count": 3,
   "id": "fddb7a47",
   "metadata": {
    "execution": {
     "iopub.execute_input": "2023-05-26T11:48:11.293233Z",
     "iopub.status.busy": "2023-05-26T11:48:11.292347Z",
     "iopub.status.idle": "2023-05-26T11:48:11.339365Z",
     "shell.execute_reply": "2023-05-26T11:48:11.338051Z"
    },
    "papermill": {
     "duration": 0.059927,
     "end_time": "2023-05-26T11:48:11.342799",
     "exception": false,
     "start_time": "2023-05-26T11:48:11.282872",
     "status": "completed"
    },
    "tags": []
   },
   "outputs": [],
   "source": [
    "tdcsfog_metadata = pd.read_csv(\"/kaggle/input/tlvmc-parkinsons-freezing-gait-prediction/tdcsfog_metadata.csv\")\n",
    "\n",
    "subjects = pd.read_csv(\"/kaggle/input/tlvmc-parkinsons-freezing-gait-prediction/subjects.csv\")\n",
    "# rememver, Visit only relevant for defog\n",
    "tdcsfog_metadata[\"Medication\"] = np.where(tdcsfog_metadata[\"Medication\"] == \"on\", 1, 0)\n",
    "tdcsfog_subject_dict =  dict(zip(tdcsfog_metadata[\"Id\"], tdcsfog_metadata[\"Subject\"]))\n",
    "tdcsfog_medication_dict = dict(zip(tdcsfog_metadata[\"Id\"], tdcsfog_metadata[\"Medication\"]))\n",
    "tdcsfog_Id_Visit = dict(zip(tdcsfog_metadata[\"Id\"], tdcsfog_metadata[\"Visit\"]))\n",
    "tdcsfog_Id_Test  =dict(zip(tdcsfog_metadata[\"Id\"], tdcsfog_metadata[\"Test\"]))\n",
    "\n",
    "\n",
    "subjects[\"UPDRSIII_On\"] = subjects[\"UPDRSIII_On\"].fillna(0)\n",
    "subjects[\"UPDRSIII_Off\"] = subjects[\"UPDRSIII_Off\"].fillna(0)"
   ]
  },
  {
   "cell_type": "code",
   "execution_count": 4,
   "id": "1c47946b",
   "metadata": {
    "execution": {
     "iopub.execute_input": "2023-05-26T11:48:11.360563Z",
     "iopub.status.busy": "2023-05-26T11:48:11.359752Z",
     "iopub.status.idle": "2023-05-26T11:48:11.368500Z",
     "shell.execute_reply": "2023-05-26T11:48:11.367240Z"
    },
    "papermill": {
     "duration": 0.020631,
     "end_time": "2023-05-26T11:48:11.371191",
     "exception": false,
     "start_time": "2023-05-26T11:48:11.350560",
     "status": "completed"
    },
    "tags": []
   },
   "outputs": [],
   "source": [
    "def fix_invalid_events(df):\n",
    "    for e_type in [\"StartHesitation\", \"Turn\",'Walking']:\n",
    "        df.loc[(df[\"Valid\"] == False) | (df[\"Task\"] == False), e_type] = 0\n",
    "        \n",
    "    return df\n",
    "def min_max_feature(df, feature):\n",
    "    new_feature = f\"precent_prograss_{feature}\"\n",
    "    df[new_feature] = (df[feature] - df[feature].min()) / (df[feature].max() - df[feature].min())\n",
    "    df[new_feature] = df[new_feature]                                                                                                     \n",
    "    return df\n"
   ]
  },
  {
   "cell_type": "code",
   "execution_count": 5,
   "id": "294f1342",
   "metadata": {
    "execution": {
     "iopub.execute_input": "2023-05-26T11:48:11.387850Z",
     "iopub.status.busy": "2023-05-26T11:48:11.387430Z",
     "iopub.status.idle": "2023-05-26T11:48:11.400430Z",
     "shell.execute_reply": "2023-05-26T11:48:11.399135Z"
    },
    "papermill": {
     "duration": 0.02463,
     "end_time": "2023-05-26T11:48:11.403202",
     "exception": false,
     "start_time": "2023-05-26T11:48:11.378572",
     "status": "completed"
    },
    "tags": []
   },
   "outputs": [],
   "source": [
    "def FE(df, is_td, isTest=False ):\n",
    "#     tdcsfog (128 timesteps per second)\n",
    "#     defog (100 timesteps per second).\n",
    "\n",
    "    if is_td:\n",
    "        second = 128\n",
    "    else:\n",
    "        second = 100\n",
    "\n",
    "    \n",
    "    if not isTest:\n",
    "        if \"Valid\" in df.columns:\n",
    "            df = fix_invalid_events(df)\n",
    "\n",
    "    for col in [\"Time\", \"AccV\", \"AccML\", \"AccAP\"]:\n",
    "        df = min_max_feature(df, col)\n",
    "    \n",
    "    #TODO TDFLEX FEATURES\n",
    "    basic_feats = MultipleFeatureDescriptors(\n",
    "        functions=seglearn_feature_dict_wrapper(base_features()),\n",
    "        series_names=['AccV', 'AccML', 'AccAP'],\n",
    "        windows=[5_000, 10_000],\n",
    "        strides=[5_000, 10_000],\n",
    "    )\n",
    "\n",
    "    emg_feats = emg_features()\n",
    "    del emg_feats['simple square integral'] # is same as abs_energy (which is in base_features)\n",
    "\n",
    "    emg_feats = MultipleFeatureDescriptors(\n",
    "        functions=seglearn_feature_dict_wrapper(emg_feats),\n",
    "        series_names=['AccV', 'AccML', 'AccAP'],\n",
    "        windows=[5_000, 10_000],\n",
    "        strides=[5_000, 10_000],\n",
    "    )\n",
    "\n",
    "    fc = FeatureCollection([basic_feats, emg_feats])\n",
    "    df_feats = fc.calculate(df, return_df=True, include_final_window=True, approve_sparsity=True, window_idx=\"begin\")\n",
    "    df = df.merge(df_feats, how=\"left\", left_index=True, right_index=True).fillna(method=\"ffill\")\n",
    "    \n",
    "    return df\n",
    "    "
   ]
  },
  {
   "cell_type": "code",
   "execution_count": 6,
   "id": "7d326ee2",
   "metadata": {
    "execution": {
     "iopub.execute_input": "2023-05-26T11:48:11.419962Z",
     "iopub.status.busy": "2023-05-26T11:48:11.419196Z",
     "iopub.status.idle": "2023-05-26T11:48:11.428044Z",
     "shell.execute_reply": "2023-05-26T11:48:11.426632Z"
    },
    "papermill": {
     "duration": 0.020132,
     "end_time": "2023-05-26T11:48:11.430612",
     "exception": false,
     "start_time": "2023-05-26T11:48:11.410480",
     "status": "completed"
    },
    "tags": []
   },
   "outputs": [],
   "source": [
    "# Target\n",
    "def create_target(df):\n",
    "    class_dict = {0: \"StartHesitation\", 1: \"Turn\", 2:\"Walking\", 3:\"None\"}\n",
    "    df[\"target\"] = 3\n",
    "    df[\"target\"] = np.where(df[\"StartHesitation\"] == 1, 0, df[\"target\"] )\n",
    "    df[\"target\"] = np.where(df[\"Turn\"] == 1, 1, df[\"target\"] )\n",
    "    df[\"target\"] = np.where(df[\"Walking\"] == 1, 2, df[\"target\"] )\n",
    "    \n",
    "    df = df.drop([\"StartHesitation\", \"Turn\", \"Walking\"], axis = 1)\n",
    "    return df"
   ]
  },
  {
   "cell_type": "code",
   "execution_count": 7,
   "id": "6cbd4825",
   "metadata": {
    "execution": {
     "iopub.execute_input": "2023-05-26T11:48:11.448135Z",
     "iopub.status.busy": "2023-05-26T11:48:11.447246Z",
     "iopub.status.idle": "2023-05-26T11:48:11.457091Z",
     "shell.execute_reply": "2023-05-26T11:48:11.455781Z"
    },
    "papermill": {
     "duration": 0.021511,
     "end_time": "2023-05-26T11:48:11.459748",
     "exception": false,
     "start_time": "2023-05-26T11:48:11.438237",
     "status": "completed"
    },
    "tags": []
   },
   "outputs": [],
   "source": [
    "def down_sample_stf(df, n_splits):   \n",
    "    print(f\"before split df has: {df.shape[0]} rows, {df.Subject.nunique()} people\")\n",
    "    n_rows_init = df.shape[0]\n",
    "    n_subjects_init = df.Subject.nunique()\n",
    "    X = df.drop(\"target\", axis = 1)\n",
    "    y = df[\"target\"]\n",
    "    groups = df[\"Subject\"]\n",
    "    sgkf = StratifiedGroupKFold(n_splits=n_splits)\n",
    "    for i, (train_index, test_index) in enumerate(sgkf.split(X, y, groups)):\n",
    "        train = df.loc[train_index]\n",
    "        valid = df.loc[test_index]\n",
    "        break\n",
    "        \n",
    "    print(f\"after split train has: {train.shape[0]} rows and {train.Subject.nunique()} people\")\n",
    "    print(f\"valid has:{valid.shape[0]} rows and {valid.Subject.nunique()} people\")\n",
    "\n",
    "    return train, valid\n",
    "    "
   ]
  },
  {
   "cell_type": "code",
   "execution_count": 8,
   "id": "e6650cb9",
   "metadata": {
    "execution": {
     "iopub.execute_input": "2023-05-26T11:48:11.476601Z",
     "iopub.status.busy": "2023-05-26T11:48:11.476196Z",
     "iopub.status.idle": "2023-05-26T11:48:11.482940Z",
     "shell.execute_reply": "2023-05-26T11:48:11.481767Z"
    },
    "papermill": {
     "duration": 0.018319,
     "end_time": "2023-05-26T11:48:11.485519",
     "exception": false,
     "start_time": "2023-05-26T11:48:11.467200",
     "status": "completed"
    },
    "tags": []
   },
   "outputs": [],
   "source": [
    "def fix_dtypes(df):\n",
    "    df[\"StartHesitation\"] = df[\"StartHesitation\"].astype(\"bool\")\n",
    "    df[\"Turn\"] = df[\"Turn\"].dfstype(\"bool\")\n",
    "    df[\"Walking\"] = df[\"Walking\"].astype(\"bool\")\n",
    "    \n",
    "    return df\n"
   ]
  },
  {
   "cell_type": "code",
   "execution_count": 9,
   "id": "5f3ceb9c",
   "metadata": {
    "execution": {
     "iopub.execute_input": "2023-05-26T11:48:11.502391Z",
     "iopub.status.busy": "2023-05-26T11:48:11.501985Z",
     "iopub.status.idle": "2023-05-26T11:48:11.509842Z",
     "shell.execute_reply": "2023-05-26T11:48:11.508397Z"
    },
    "papermill": {
     "duration": 0.019539,
     "end_time": "2023-05-26T11:48:11.512557",
     "exception": false,
     "start_time": "2023-05-26T11:48:11.493018",
     "status": "completed"
    },
    "tags": []
   },
   "outputs": [],
   "source": [
    "def flat_outliers(df):\n",
    "    for col in ['AccV','AccML','AccV']:\n",
    "        max_value = df[col].quantile(q=0.99)\n",
    "        min_value = df[col].quantile(q=0.01)\n",
    "        df[col] = np.where(df[col] > max_value, max_value, df[col])\n",
    "        df[col] = np.where(df[col] < min_value, min_value, df[col])\n",
    "    return df"
   ]
  },
  {
   "cell_type": "code",
   "execution_count": 10,
   "id": "28632702",
   "metadata": {
    "execution": {
     "iopub.execute_input": "2023-05-26T11:48:11.529507Z",
     "iopub.status.busy": "2023-05-26T11:48:11.529072Z",
     "iopub.status.idle": "2023-05-26T11:48:11.547363Z",
     "shell.execute_reply": "2023-05-26T11:48:11.546228Z"
    },
    "papermill": {
     "duration": 0.029933,
     "end_time": "2023-05-26T11:48:11.550176",
     "exception": false,
     "start_time": "2023-05-26T11:48:11.520243",
     "status": "completed"
    },
    "tags": []
   },
   "outputs": [],
   "source": [
    "def reduce_memory_usage(df):\n",
    "    \n",
    "    start_mem = df.memory_usage().sum() / 1024**2\n",
    "    print('Memory usage of dataframe is {:.2f} MB'.format(start_mem))\n",
    "    \n",
    "    for col in df.columns:\n",
    "        col_type = df[col].dtype.name\n",
    "        if ((col_type != 'datetime64[ns]') & (col_type != 'category')):\n",
    "            if (col_type != 'object'):\n",
    "                c_min = df[col].min()\n",
    "                c_max = df[col].max()\n",
    "\n",
    "                if str(col_type)[:3] == 'int':\n",
    "                    if c_min > np.iinfo(np.int8).min and c_max < np.iinfo(np.int8).max:\n",
    "                        df[col] = df[col].astype(np.int8)\n",
    "                    elif c_min > np.iinfo(np.int16).min and c_max < np.iinfo(np.int16).max:\n",
    "                        df[col] = df[col].astype(np.int16)\n",
    "                    elif c_min > np.iinfo(np.int32).min and c_max < np.iinfo(np.int32).max:\n",
    "                        df[col] = df[col].astype(np.int32)\n",
    "                    elif c_min > np.iinfo(np.int64).min and c_max < np.iinfo(np.int64).max:\n",
    "                        df[col] = df[col].astype(np.int64)\n",
    "\n",
    "                else:\n",
    "                    if c_min > np.finfo(np.float16).min and c_max < np.finfo(np.float16).max:\n",
    "                        df[col] = df[col].astype(np.float16)\n",
    "                    elif c_min > np.finfo(np.float32).min and c_max < np.finfo(np.float32).max:\n",
    "                        df[col] = df[col].astype(np.float32)\n",
    "                    else:\n",
    "                        pass\n",
    "            else:\n",
    "                df[col] = df[col].astype('category')\n",
    "    mem_usg = df.memory_usage().sum() / 1024**2 \n",
    "    print(\"Memory usage became: \",mem_usg,\" MB\")\n",
    "    \n",
    "    return df\n",
    "#reference: https://www"
   ]
  },
  {
   "cell_type": "code",
   "execution_count": 11,
   "id": "8c6da045",
   "metadata": {
    "execution": {
     "iopub.execute_input": "2023-05-26T11:48:11.567942Z",
     "iopub.status.busy": "2023-05-26T11:48:11.567490Z",
     "iopub.status.idle": "2023-05-26T11:48:11.582951Z",
     "shell.execute_reply": "2023-05-26T11:48:11.581920Z"
    },
    "papermill": {
     "duration": 0.027935,
     "end_time": "2023-05-26T11:48:11.585717",
     "exception": false,
     "start_time": "2023-05-26T11:48:11.557782",
     "status": "completed"
    },
    "tags": []
   },
   "outputs": [],
   "source": [
    "def make_df(base,isTest=False, black_list = []):\n",
    "    train= pd.DataFrame()\n",
    "    if \"tdcsfog\" in base:\n",
    "        is_td = True\n",
    "    else:\n",
    "        is_td = False\n",
    "    \n",
    "    for train_path in tqdm(os.listdir(base)):\n",
    "        file_path = base + '/'+train_path\n",
    "        df = pd.read_csv(file_path)\n",
    "        df_time = df[\"Time\"].copy()\n",
    "        df = df.set_index(\"Time\")\n",
    "        df[\"Time\"] = df_time\n",
    "        df = flat_outliers(df)\n",
    "        df = FE(df, is_td)\n",
    "        if not isTest:\n",
    "            df = create_target(df)\n",
    "        df[\"file\"] = train_path.split(\".\")[0]\n",
    "        df[\"id\"] = df[\"file\"].astype(\"str\") + \"_\" + df[\"Time\"].astype(\"str\")\n",
    "        \n",
    "        dot_index = train_path.index(\".\")\n",
    "        file_id = train_path[:dot_index]\n",
    "        \n",
    "        if \"tdcsfog\" in base:\n",
    "            df[\"Subject\"] = tdcsfog_subject_dict[file_id]\n",
    "            df[\"Medication\"] =  tdcsfog_medication_dict[file_id]\n",
    "            df[\"Visit\"] = tdcsfog_Id_Visit[file_id]\n",
    "            df[\"Test_level\"] =tdcsfog_Id_Test[file_id]\n",
    "\n",
    "        else:\n",
    "            df[\"Subject\"] = defog_subject_dict[file_id]\n",
    "            df[\"Medication\"] = defog_medication_dict[file_id]\n",
    "            df[\"Visit\"] = defog_Id_Visit[file_id]\n",
    "            df[\"Test_level\"] =defog_Id_Test[file_id]\n",
    "\n",
    "        if train.shape[0] == 0:\n",
    "            cur_black_list = [c for c in black_list if c in df.columns]\n",
    "        train = train.append(df.drop(cur_black_list, axis = 1))\n",
    "        del df\n",
    "        gc.collect()\n",
    "\n",
    "    train = reduce_memory_usage(train)\n",
    "    train.reset_index(drop=True, inplace=True)        \n",
    "    return train"
   ]
  },
  {
   "cell_type": "code",
   "execution_count": null,
   "id": "1360cff8",
   "metadata": {
    "papermill": {
     "duration": 0.007085,
     "end_time": "2023-05-26T11:48:11.600233",
     "exception": false,
     "start_time": "2023-05-26T11:48:11.593148",
     "status": "completed"
    },
    "tags": []
   },
   "outputs": [],
   "source": []
  },
  {
   "cell_type": "code",
   "execution_count": 12,
   "id": "f73d9eb3",
   "metadata": {
    "execution": {
     "iopub.execute_input": "2023-05-26T11:48:11.618400Z",
     "iopub.status.busy": "2023-05-26T11:48:11.617606Z",
     "iopub.status.idle": "2023-05-26T12:15:28.106542Z",
     "shell.execute_reply": "2023-05-26T12:15:28.104788Z"
    },
    "papermill": {
     "duration": 1636.580123,
     "end_time": "2023-05-26T12:15:28.188992",
     "exception": false,
     "start_time": "2023-05-26T11:48:11.608869",
     "status": "completed"
    },
    "tags": []
   },
   "outputs": [
    {
     "name": "stderr",
     "output_type": "stream",
     "text": [
      "100%|██████████| 833/833 [25:34<00:00,  1.84s/it]\n"
     ]
    },
    {
     "name": "stdout",
     "output_type": "stream",
     "text": [
      "Memory usage of dataframe is 4634.02 MB\n",
      "Memory usage became:  1571.4607391357422  MB\n"
     ]
    }
   ],
   "source": [
    "tdcsfog_train = make_df(\"/kaggle/input/tlvmc-parkinsons-freezing-gait-prediction/train/tdcsfog\", black_list=black_list)"
   ]
  },
  {
   "cell_type": "code",
   "execution_count": 13,
   "id": "60e18338",
   "metadata": {
    "execution": {
     "iopub.execute_input": "2023-05-26T12:15:28.353103Z",
     "iopub.status.busy": "2023-05-26T12:15:28.352647Z",
     "iopub.status.idle": "2023-05-26T12:15:51.918390Z",
     "shell.execute_reply": "2023-05-26T12:15:51.917063Z"
    },
    "papermill": {
     "duration": 23.65123,
     "end_time": "2023-05-26T12:15:51.921333",
     "exception": false,
     "start_time": "2023-05-26T12:15:28.270103",
     "status": "completed"
    },
    "tags": []
   },
   "outputs": [
    {
     "name": "stdout",
     "output_type": "stream",
     "text": [
      "(7062672, 85)\n",
      "(7062672, 91)\n",
      "0 nans\n"
     ]
    },
    {
     "data": {
      "text/plain": [
       "Series([], dtype: int64)"
      ]
     },
     "execution_count": 13,
     "metadata": {},
     "output_type": "execute_result"
    }
   ],
   "source": [
    "print(tdcsfog_train.shape)\n",
    "# merging only on Subject because Visit is relevant for defog only\n",
    "tdcsfog_train = tdcsfog_train.merge(subjects.drop(\"Visit\",axis = 1),\n",
    "                                    on=[\"Subject\"], how=\"left\")\n",
    "print(tdcsfog_train.shape)\n",
    "\n",
    "tdcsfog_train['Sex'] = np.where(tdcsfog_train['Sex'] == \"M\", 1, 0)\n",
    "\n",
    "print(f\"{tdcsfog_train.isna().sum().sum()} nans\")\n",
    "isn = tdcsfog_train.isna().sum()\n",
    "isn[isn > 0]"
   ]
  },
  {
   "cell_type": "code",
   "execution_count": 14,
   "id": "9a7f3d95",
   "metadata": {
    "execution": {
     "iopub.execute_input": "2023-05-26T12:15:52.084561Z",
     "iopub.status.busy": "2023-05-26T12:15:52.084132Z",
     "iopub.status.idle": "2023-05-26T12:16:36.038032Z",
     "shell.execute_reply": "2023-05-26T12:16:36.036893Z"
    },
    "papermill": {
     "duration": 44.118062,
     "end_time": "2023-05-26T12:16:36.120010",
     "exception": false,
     "start_time": "2023-05-26T12:15:52.001948",
     "status": "completed"
    },
    "tags": []
   },
   "outputs": [
    {
     "name": "stdout",
     "output_type": "stream",
     "text": [
      "Memory usage of dataframe is 1941.91 MB\n",
      "Memory usage became:  1632.0801391601562  MB\n",
      "before split df has: 7062672 rows, 62 people\n",
      "after split train has: 4788836 rows and 46 people\n",
      "valid has:2273836 rows and 16 people\n"
     ]
    },
    {
     "data": {
      "text/plain": [
       "0"
      ]
     },
     "execution_count": 14,
     "metadata": {},
     "output_type": "execute_result"
    }
   ],
   "source": [
    "tdcsfog_train = reduce_memory_usage(tdcsfog_train)\n",
    "train, valid = down_sample_stf(tdcsfog_train, 4)\n",
    "del tdcsfog_train\n",
    "gc.collect()\n"
   ]
  },
  {
   "cell_type": "code",
   "execution_count": 15,
   "id": "e10c0af3",
   "metadata": {
    "execution": {
     "iopub.execute_input": "2023-05-26T12:16:36.287926Z",
     "iopub.status.busy": "2023-05-26T12:16:36.287509Z",
     "iopub.status.idle": "2023-05-26T12:16:59.515284Z",
     "shell.execute_reply": "2023-05-26T12:16:59.513884Z"
    },
    "papermill": {
     "duration": 23.315319,
     "end_time": "2023-05-26T12:16:59.518602",
     "exception": false,
     "start_time": "2023-05-26T12:16:36.203283",
     "status": "completed"
    },
    "tags": []
   },
   "outputs": [
    {
     "name": "stdout",
     "output_type": "stream",
     "text": [
      "Memory usage of dataframe is 1170.52 MB\n",
      "Memory usage became:  1170.518539428711  MB\n",
      "Memory usage of dataframe is 719.60 MB\n",
      "Memory usage became:  719.6022491455078  MB\n"
     ]
    }
   ],
   "source": [
    "pickle.dump(reduce_memory_usage(train.reset_index(drop=True)), open(\"train_td.pkl\", \"wb\"))\n",
    "pickle.dump(reduce_memory_usage(valid.reset_index(drop=True)), open(\"valid_td.pkl\", \"wb\"))"
   ]
  }
 ],
 "metadata": {
  "kernelspec": {
   "display_name": "Python 3",
   "language": "python",
   "name": "python3"
  },
  "language_info": {
   "codemirror_mode": {
    "name": "ipython",
    "version": 3
   },
   "file_extension": ".py",
   "mimetype": "text/x-python",
   "name": "python",
   "nbconvert_exporter": "python",
   "pygments_lexer": "ipython3",
   "version": "3.7.12"
  },
  "papermill": {
   "default_parameters": {},
   "duration": 1775.452315,
   "end_time": "2023-05-26T12:17:00.832390",
   "environment_variables": {},
   "exception": null,
   "input_path": "__notebook__.ipynb",
   "output_path": "__notebook__.ipynb",
   "parameters": {},
   "start_time": "2023-05-26T11:47:25.380075",
   "version": "2.4.0"
  }
 },
 "nbformat": 4,
 "nbformat_minor": 5
}
