{
 "cells": [
  {
   "cell_type": "code",
   "execution_count": 1,
   "id": "e5cfb9bb",
   "metadata": {
    "_cell_guid": "4b858ea0-e96e-4ed3-92a0-94b138b1e88e",
    "_uuid": "7516946b-845f-4fe9-aa37-2fd8be378b1a",
    "collapsed": false,
    "execution": {
     "iopub.execute_input": "2023-05-29T22:27:20.091788Z",
     "iopub.status.busy": "2023-05-29T22:27:20.090358Z",
     "iopub.status.idle": "2023-05-29T22:27:24.859503Z",
     "shell.execute_reply": "2023-05-29T22:27:24.857968Z"
    },
    "jupyter": {
     "outputs_hidden": false
    },
    "papermill": {
     "duration": 4.779611,
     "end_time": "2023-05-29T22:27:24.862641",
     "exception": false,
     "start_time": "2023-05-29T22:27:20.083030",
     "status": "completed"
    },
    "tags": []
   },
   "outputs": [
    {
     "data": {
      "text/html": [
       "<style type='text/css'>\n",
       ".datatable table.frame { margin-bottom: 0; }\n",
       ".datatable table.frame thead { border-bottom: none; }\n",
       ".datatable table.frame tr.coltypes td {  color: #FFFFFF;  line-height: 6px;  padding: 0 0.5em;}\n",
       ".datatable .bool    { background: #DDDD99; }\n",
       ".datatable .object  { background: #565656; }\n",
       ".datatable .int     { background: #5D9E5D; }\n",
       ".datatable .float   { background: #4040CC; }\n",
       ".datatable .str     { background: #CC4040; }\n",
       ".datatable .time    { background: #40CC40; }\n",
       ".datatable .row_index {  background: var(--jp-border-color3);  border-right: 1px solid var(--jp-border-color0);  color: var(--jp-ui-font-color3);  font-size: 9px;}\n",
       ".datatable .frame tbody td { text-align: left; }\n",
       ".datatable .frame tr.coltypes .row_index {  background: var(--jp-border-color0);}\n",
       ".datatable th:nth-child(2) { padding-left: 12px; }\n",
       ".datatable .hellipsis {  color: var(--jp-cell-editor-border-color);}\n",
       ".datatable .vellipsis {  background: var(--jp-layout-color0);  color: var(--jp-cell-editor-border-color);}\n",
       ".datatable .na {  color: var(--jp-cell-editor-border-color);  font-size: 80%;}\n",
       ".datatable .sp {  opacity: 0.25;}\n",
       ".datatable .footer { font-size: 9px; }\n",
       ".datatable .frame_dimensions {  background: var(--jp-border-color3);  border-top: 1px solid var(--jp-border-color0);  color: var(--jp-ui-font-color3);  display: inline-block;  opacity: 0.6;  padding: 1px 10px 1px 5px;}\n",
       "</style>\n"
      ],
      "text/plain": [
       "<IPython.core.display.HTML object>"
      ]
     },
     "metadata": {},
     "output_type": "display_data"
    }
   ],
   "source": [
    "import numpy as np # linear algebra\n",
    "import pandas as pd # data processing, CSV file I/O (e.g. pd.read_csv)\n",
    "\n",
    "import plotly.express as px\n",
    "from plotly.subplots import make_subplots\n",
    "import plotly.graph_objects as go\n",
    "\n",
    "import os\n",
    "\n",
    "import pickle\n",
    "\n",
    "from tqdm import tqdm\n",
    "\n",
    "import lightgbm\n",
    "import xgboost\n",
    "from sklearn.ensemble import RandomForestClassifier\n",
    "from sklearn.ensemble import AdaBoostClassifier \n",
    "\n",
    "import catboost\n",
    "import gc\n",
    "import random\n",
    "random.seed(2233)\n",
    "\n",
    "# for ens X\n",
    "from sklearn.metrics import average_precision_score \n",
    "from sklearn.model_selection import GroupKFold\n",
    "from sklearn.model_selection import StratifiedGroupKFold\n",
    "from sklearn.model_selection import StratifiedShuffleSplit\n",
    "\n",
    "import matplotlib.pyplot as plt"
   ]
  },
  {
   "cell_type": "code",
   "execution_count": 2,
   "id": "46b95333",
   "metadata": {
    "_cell_guid": "3337edfd-3ca1-404e-aae4-420eb4a8aa23",
    "_uuid": "b2ab7600-a969-4f0f-9b44-6e025cae43b1",
    "collapsed": false,
    "execution": {
     "iopub.execute_input": "2023-05-29T22:27:24.875645Z",
     "iopub.status.busy": "2023-05-29T22:27:24.875143Z",
     "iopub.status.idle": "2023-05-29T22:30:08.166196Z",
     "shell.execute_reply": "2023-05-29T22:30:08.164252Z"
    },
    "jupyter": {
     "outputs_hidden": false
    },
    "papermill": {
     "duration": 163.301446,
     "end_time": "2023-05-29T22:30:08.169868",
     "exception": false,
     "start_time": "2023-05-29T22:27:24.868422",
     "status": "completed"
    },
    "tags": []
   },
   "outputs": [],
   "source": [
    "MODEL = \"rf\"\n",
    "all_cols = ['target','Subject','fence_AccAP_pct_m15_w10_past','AccML_min_past_20_maxs',\n",
    "             'graph_first_half_AccV_mean','AccML_std_past_20_maxs','AccV_mean_past_20_mins','fence_AccAP_pct_m10_w5_past','graph_first_half_AccV_max',\n",
    "             'AccV_mean_past_20_maxs','AccV_max_past_10_mins','precent_prograss_moving_std_all_AccAP',\n",
    "             'AccAP_min_past_20_maxs','AccV_mean_past_10_mins','graph_AccV_min','AccML_std_past_20_mins',\n",
    "             'AccAP_std_past_20_maxs','AccV_min_past_20_maxs','fence_AccAP_pct_m35_w10_past',\n",
    "                'AccML_mean_past_10_mins',\n",
    " 'AccV_mean_past_10_maxs',\n",
    " 'graph_first_half_AccV_std',\n",
    " 'AccV_max_past_20_maxs',\n",
    " 'AccV_std_past_10_maxs',\n",
    " 'precent_prograss_Time',\n",
    " 'AccML_std_past_10_maxs',\n",
    " 'AccML_min_past_10_maxs',\n",
    " 'fence_AccAP_pct_m25_w10_past',\n",
    " 'precent_prograss_moving_std_all_AccV',\n",
    " 'fence_AccAP_pct_m25_w5_past',\n",
    " 'AccV_std_past_20_maxs',\n",
    " 'AccV_max_past_10_maxs',\n",
    " 'AccML_mean_past_20_maxs',\n",
    " 'precent_prograss_AccV',\n",
    " 'AccAP_std_past_10_maxs',\n",
    " 'graph_AccV_max',\n",
    " 'graph_second_half_AccV_max',\n",
    " 'graph_second_half_AccV_mean',\n",
    " 'AccAP_std_past_20_mins',\n",
    " 'graph_second_half_AccV_std',\n",
    " 'fence_AccAP_pct_m5_w10_past',\n",
    " 'AccV_min_past_20_mins',\n",
    " 'AccML_std_past_10_mins',\n",
    " 'AccV_max_past_20_mins',\n",
    " 'moving_std_all_AccAP',\n",
    " 'graph_first_half_AccV_min',\n",
    " 'precent_prograss_moving_mean_all_AccAP',\n",
    " 'AccV_min_past_10_mins',\n",
    " 'id',\n",
    " 'graph_second_half_AccV_min',\n",
    " 'AccAP_min_past_10_maxs',\n",
    " 'precent_prograss_AccAP',\n",
    " 'Visit',\n",
    " 'AccV_min_past_10_maxs',\n",
    " 'precent_prograss_moving_mean_all_AccV',\n",
    " 'fence_AccAP_pct_m10_w10_past',\n",
    " 'AccML_mean_past_20_mins',\n",
    " 'fence_AccAP_pct_m35_w5_past',\n",
    " 'AccAP_std_past_10_mins',\n",
    " 'AccAP_pct',\n",
    " 'moving_std_AccV_pct_10',\n",
    " 'moving_std_AccV_pct_5',\n",
    " 'AccML_min_past_30_mins',\n",
    " 'AccML_min_past_40_mins',\n",
    " 'AccAP_max_past_30_maxs',\n",
    " 'AccAP_max_past_40_maxs',\n",
    " 'graph_AccAP_mean',\n",
    " 'graph_AccAP_min',\n",
    " 'graph_AccAP_max']\n",
    "\n",
    "parms =  {'n_estimators': 63, 'max_depth': 9, 'min_samples_split': 60, 'min_samples_leaf': 46, 'max_features': 8}\n",
    "de_train = pd.read_pickle(\"/kaggle/input/make-data-v9-de/train_de.pkl\")[all_cols]\n",
    "td_train = pd.read_pickle(\"/kaggle/input/make-data-v9-td/train_td.pkl\")[all_cols]\n",
    "\n",
    "de_valid = pd.read_pickle(\"/kaggle/input/make-data-v9-de/valid_de.pkl\")[all_cols]\n",
    "td_valid = pd.read_pickle(\"/kaggle/input/make-data-v9-td/valid_td.pkl\")[all_cols]\n",
    "\n",
    "td_train[\"Valid\"] = 1\n",
    "td_train[\"Task\"] = 1\n",
    "\n",
    "td_valid[\"Valid\"] = 1\n",
    "td_valid[\"Task\"] = 1\n",
    "\n",
    "df_for_cv =  de_train.append(td_train).reset_index(drop=True)\n",
    "df_for_sub = df_for_cv.append(de_valid).append(td_valid).reset_index(drop=True)\n",
    "\n",
    "# folds_train_indexes_cv = pickle.load(open(\"/kaggle/input/v9-make-folds/folds_train_indexs_cv.pkl\",\"rb\"))\n",
    "# folds_train_indexes_full = pickle.load(open(\"/kaggle/input/v9-make-folds/folds_train_indexs_full.pkl\",\"rb\"))\n",
    "\n",
    "# folds_valid_indexes_cv = pickle.load(open(\"/kaggle/input/v9-make-folds/folds_valid_indexs_cv.pkl\",\"rb\"))\n",
    "# folds_valid_indexes_full = pickle.load(open(\"/kaggle/input/v9-make-folds/folds_valid_indexs_full.pkl\",\"rb\"))"
   ]
  },
  {
   "cell_type": "code",
   "execution_count": 3,
   "id": "2df04341",
   "metadata": {
    "execution": {
     "iopub.execute_input": "2023-05-29T22:30:08.186126Z",
     "iopub.status.busy": "2023-05-29T22:30:08.185645Z",
     "iopub.status.idle": "2023-05-29T22:30:08.191879Z",
     "shell.execute_reply": "2023-05-29T22:30:08.190463Z"
    },
    "papermill": {
     "duration": 0.015664,
     "end_time": "2023-05-29T22:30:08.194828",
     "exception": false,
     "start_time": "2023-05-29T22:30:08.179164",
     "status": "completed"
    },
    "tags": []
   },
   "outputs": [],
   "source": [
    "# # angry work-around\n",
    "# def angry_workaround(df, indexs):\n",
    "#     for fold in range(len(indexs)):\n",
    "#         df.loc[indexs[fold][0], \"target\"] = 0    \n",
    "#         df.loc[indexs[fold][1], \"target\"] = 1 \n",
    "#         df.loc[indexs[fold][2], \"target\"] = 2    \n",
    "#         df.loc[indexs[fold][3], \"target\"] = 3\n",
    "#     return df\n",
    "\n",
    "\n",
    "# df_for_cv = angry_workaround(df_for_cv, folds_train_indexes_cv)\n",
    "# df_for_sub = angry_workaround(df_for_sub, folds_train_indexes_full)"
   ]
  },
  {
   "cell_type": "code",
   "execution_count": 4,
   "id": "854ec30e",
   "metadata": {
    "execution": {
     "iopub.execute_input": "2023-05-29T22:30:08.206323Z",
     "iopub.status.busy": "2023-05-29T22:30:08.205882Z",
     "iopub.status.idle": "2023-05-29T22:30:08.211815Z",
     "shell.execute_reply": "2023-05-29T22:30:08.210262Z"
    },
    "papermill": {
     "duration": 0.015558,
     "end_time": "2023-05-29T22:30:08.215081",
     "exception": false,
     "start_time": "2023-05-29T22:30:08.199523",
     "status": "completed"
    },
    "tags": []
   },
   "outputs": [],
   "source": [
    "# folds_train_indexs_full = pickle.load(open(\"/kaggle/input/v9-make-folds/folds_train_indexs_full.pkl\", \"rb\"))\n",
    "# train_ind = set([])\n",
    "# for ele in folds_train_indexs_full:\n",
    "#     for ind in ele:\n",
    "#         train_ind.add(ind)\n",
    "# relevant_ind = list(train_ind)\n",
    "\n",
    "# df_for_sub = df_for_sub.loc[relevant_ind]"
   ]
  },
  {
   "cell_type": "code",
   "execution_count": 5,
   "id": "39dcab05",
   "metadata": {
    "_cell_guid": "b8246e0c-cdb1-4e17-aff7-9f10ff2a0094",
    "_uuid": "827843f5-438a-44d6-b276-c67e848962b3",
    "collapsed": false,
    "execution": {
     "iopub.execute_input": "2023-05-29T22:30:08.226610Z",
     "iopub.status.busy": "2023-05-29T22:30:08.226185Z",
     "iopub.status.idle": "2023-05-29T22:30:08.238292Z",
     "shell.execute_reply": "2023-05-29T22:30:08.236510Z"
    },
    "jupyter": {
     "outputs_hidden": false
    },
    "papermill": {
     "duration": 0.021476,
     "end_time": "2023-05-29T22:30:08.241354",
     "exception": false,
     "start_time": "2023-05-29T22:30:08.219878",
     "status": "completed"
    },
    "tags": []
   },
   "outputs": [],
   "source": [
    "def get_model(parms= None, model_name=\"lgbm\"):\n",
    "    if model_name == \"lgbm\":\n",
    "        if parms is None:\n",
    "            model = lightgbm.LGBMClassifier()\n",
    "        else:\n",
    "            model = lightgbm.LGBMClassifier(**parms)\n",
    "    elif model_name == \"rf\":\n",
    "        if parms is None:\n",
    "            model = RandomForestClassifier()\n",
    "        else:\n",
    "            model = RandomForestClassifier(**parms)     \n",
    "            \n",
    "    elif model_name == \"xgboost\":\n",
    "        if parms is None:\n",
    "            model = xgboost.XGBClassifier()\n",
    "        else:\n",
    "            model = xgboost.XGBClassifier(**parms) \n",
    "            \n",
    "    elif model_name == \"catboost\":\n",
    "        if parms is None:\n",
    "            model = catboost.CatBoostClassifier()\n",
    "        else:\n",
    "            model = catboost.CatBoostClassifier(**parms) \n",
    "            \n",
    "    elif model_name == \"adaboost\":\n",
    "        if parms is None:\n",
    "            model = AdaBoostClassifier()\n",
    "        else:\n",
    "            model = AdaBoostClassifier(**parms)\n",
    "            \n",
    "    return model"
   ]
  },
  {
   "cell_type": "code",
   "execution_count": 6,
   "id": "c925beb8",
   "metadata": {
    "_cell_guid": "f48524f2-2d0c-4bb4-9d4e-f8dea5fc2707",
    "_uuid": "e4b5e881-ebf1-42df-938c-05dd313c73a9",
    "collapsed": false,
    "execution": {
     "iopub.execute_input": "2023-05-29T22:30:08.252966Z",
     "iopub.status.busy": "2023-05-29T22:30:08.252463Z",
     "iopub.status.idle": "2023-05-29T22:30:08.264223Z",
     "shell.execute_reply": "2023-05-29T22:30:08.262758Z"
    },
    "jupyter": {
     "outputs_hidden": false
    },
    "papermill": {
     "duration": 0.02098,
     "end_time": "2023-05-29T22:30:08.267105",
     "exception": false,
     "start_time": "2023-05-29T22:30:08.246125",
     "status": "completed"
    },
    "tags": []
   },
   "outputs": [],
   "source": [
    "def fix_y(y):\n",
    "    return y - 1 # (1,2,3) -> (0,1,2)\n",
    "\n",
    "def fit_save(train_X,train_y, train_cols, cv_or_full,parms= None, model_name=\"lgbm\"):\n",
    "    no_train_cols = [\"Time\",\"Valid\",\"Task\",'Subject','file', 'id', 'target']    \n",
    "    train_cols = [c for c in train_cols if c not in no_train_cols]\n",
    "    \n",
    "    model = get_model(parms, model_name)\n",
    "    no_sh = False\n",
    "    \n",
    "    if set(train_y.unique()) == set([1,2,3]): # no SH\n",
    "        train_y = fix_y(train_y)\n",
    "        no_sh = True\n",
    "    gc.collect()\n",
    "    model.fit(train_X[train_cols], train_y)\n",
    "    gc.collect()\n",
    "    model_dict = {\"model_name\" : model_name,\n",
    "                 \"model\": model,\n",
    "                 \"parms\": parms,\n",
    "                 \"features\": train_cols}\n",
    "    pickle.dump(model_dict, open(f\"model_dict_{model_name}_{cv_or_full}.pkl\", \"wb\"))"
   ]
  },
  {
   "cell_type": "code",
   "execution_count": 7,
   "id": "642114bc",
   "metadata": {
    "_cell_guid": "e27e8dda-4dc6-4eae-b1f8-0b65ef8f0867",
    "_uuid": "2ed0946f-e41f-486d-ab76-7b26a28c77f1",
    "collapsed": false,
    "execution": {
     "iopub.execute_input": "2023-05-29T22:30:08.280026Z",
     "iopub.status.busy": "2023-05-29T22:30:08.278431Z",
     "iopub.status.idle": "2023-05-29T22:30:08.285523Z",
     "shell.execute_reply": "2023-05-29T22:30:08.283491Z"
    },
    "jupyter": {
     "outputs_hidden": false
    },
    "papermill": {
     "duration": 0.016762,
     "end_time": "2023-05-29T22:30:08.288540",
     "exception": false,
     "start_time": "2023-05-29T22:30:08.271778",
     "status": "completed"
    },
    "tags": []
   },
   "outputs": [],
   "source": [
    "#print(f\"fit_save_{MODEL}_for_CV\")\n",
    "#fit_save(df_for_cv,df_for_cv[\"target\"], train_cols=all_cols, parms= parms, model_name=MODEL, cv_or_full = \"cv\")\n",
    "\n",
    "# print(f\"Make_ENS_Xy_{MODEL}_for_CV\")\n",
    "# preds, gt = pipeline(df_for_cv, all_cols, folds=5, parms=parms, model_name=MODEL, cv_or_full = \"cv\")"
   ]
  },
  {
   "cell_type": "code",
   "execution_count": 8,
   "id": "4fc0bf02",
   "metadata": {
    "_cell_guid": "b4031072-90fe-4a41-a058-f353b097533c",
    "_uuid": "b076d47c-ef65-4c12-875e-16831638b2b0",
    "execution": {
     "iopub.execute_input": "2023-05-29T22:30:08.301190Z",
     "iopub.status.busy": "2023-05-29T22:30:08.300703Z",
     "iopub.status.idle": "2023-05-30T00:28:09.074089Z",
     "shell.execute_reply": "2023-05-30T00:28:09.072114Z"
    },
    "papermill": {
     "duration": 7080.790065,
     "end_time": "2023-05-30T00:28:09.083668",
     "exception": false,
     "start_time": "2023-05-29T22:30:08.293603",
     "status": "completed"
    },
    "tags": []
   },
   "outputs": [
    {
     "name": "stdout",
     "output_type": "stream",
     "text": [
      "fit_save_rf_for_submission\n"
     ]
    }
   ],
   "source": [
    "print(f\"fit_save_{MODEL}_for_submission\")\n",
    "fit_save(df_for_sub,df_for_sub[\"target\"], train_cols=all_cols, parms= parms, model_name=MODEL, cv_or_full = \"full\")\n",
    "\n",
    "# print(f\"Make_ENS_Xy_{MODEL}_for_submission\")\n",
    "# preds, gt = pipeline(df_for_sub, all_cols, folds_total=folds_total, folds_start=folds_start,folds_end=folds_end,\n",
    "#                      train_folds_list=folds_train_indexes_full , valid_folds_list= folds_valid_indexes_full, parms=parms, model_name=MODEL, cv_or_full = \"full\")\n"
   ]
  }
 ],
 "metadata": {
  "kernelspec": {
   "display_name": "Python 3",
   "language": "python",
   "name": "python3"
  },
  "language_info": {
   "codemirror_mode": {
    "name": "ipython",
    "version": 3
   },
   "file_extension": ".py",
   "mimetype": "text/x-python",
   "name": "python",
   "nbconvert_exporter": "python",
   "pygments_lexer": "ipython3",
   "version": "3.7.12"
  },
  "papermill": {
   "default_parameters": {},
   "duration": 7266.529513,
   "end_time": "2023-05-30T00:28:12.349447",
   "environment_variables": {},
   "exception": null,
   "input_path": "__notebook__.ipynb",
   "output_path": "__notebook__.ipynb",
   "parameters": {},
   "start_time": "2023-05-29T22:27:05.819934",
   "version": "2.4.0"
  }
 },
 "nbformat": 4,
 "nbformat_minor": 5
}
