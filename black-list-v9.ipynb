{
 "cells": [
  {
   "cell_type": "code",
   "execution_count": 1,
   "id": "5097f5bb",
   "metadata": {
    "_cell_guid": "b1076dfc-b9ad-4769-8c92-a6c4dae69d19",
    "_uuid": "8f2839f25d086af736a60e9eeb907d3b93b6e0e5",
    "execution": {
     "iopub.execute_input": "2023-05-29T21:55:07.818234Z",
     "iopub.status.busy": "2023-05-29T21:55:07.817752Z",
     "iopub.status.idle": "2023-05-29T21:55:41.359463Z",
     "shell.execute_reply": "2023-05-29T21:55:41.358293Z"
    },
    "papermill": {
     "duration": 33.550692,
     "end_time": "2023-05-29T21:55:41.362664",
     "exception": false,
     "start_time": "2023-05-29T21:55:07.811972",
     "status": "completed"
    },
    "tags": []
   },
   "outputs": [
    {
     "data": {
      "text/html": [
       "<style type='text/css'>\n",
       ".datatable table.frame { margin-bottom: 0; }\n",
       ".datatable table.frame thead { border-bottom: none; }\n",
       ".datatable table.frame tr.coltypes td {  color: #FFFFFF;  line-height: 6px;  padding: 0 0.5em;}\n",
       ".datatable .bool    { background: #DDDD99; }\n",
       ".datatable .object  { background: #565656; }\n",
       ".datatable .int     { background: #5D9E5D; }\n",
       ".datatable .float   { background: #4040CC; }\n",
       ".datatable .str     { background: #CC4040; }\n",
       ".datatable .time    { background: #40CC40; }\n",
       ".datatable .row_index {  background: var(--jp-border-color3);  border-right: 1px solid var(--jp-border-color0);  color: var(--jp-ui-font-color3);  font-size: 9px;}\n",
       ".datatable .frame tbody td { text-align: left; }\n",
       ".datatable .frame tr.coltypes .row_index {  background: var(--jp-border-color0);}\n",
       ".datatable th:nth-child(2) { padding-left: 12px; }\n",
       ".datatable .hellipsis {  color: var(--jp-cell-editor-border-color);}\n",
       ".datatable .vellipsis {  background: var(--jp-layout-color0);  color: var(--jp-cell-editor-border-color);}\n",
       ".datatable .na {  color: var(--jp-cell-editor-border-color);  font-size: 80%;}\n",
       ".datatable .sp {  opacity: 0.25;}\n",
       ".datatable .footer { font-size: 9px; }\n",
       ".datatable .frame_dimensions {  background: var(--jp-border-color3);  border-top: 1px solid var(--jp-border-color0);  color: var(--jp-ui-font-color3);  display: inline-block;  opacity: 0.6;  padding: 1px 10px 1px 5px;}\n",
       "</style>\n"
      ],
      "text/plain": [
       "<IPython.core.display.HTML object>"
      ]
     },
     "metadata": {},
     "output_type": "display_data"
    },
    {
     "name": "stdout",
     "output_type": "stream",
     "text": [
      "Looking in links: file:///kaggle/input/tsflex\r\n",
      "Processing /kaggle/input/tsflex/tsflex-0.3.0-py3-none-any.whl\r\n",
      "Requirement already satisfied: tqdm<5.0.0,>=4.62.3 in /opt/conda/lib/python3.7/site-packages (from tsflex) (4.64.1)\r\n",
      "Requirement already satisfied: pandas<2.0.0,>=1.3.5 in /opt/conda/lib/python3.7/site-packages (from tsflex) (1.3.5)\r\n",
      "Requirement already satisfied: multiprocess<0.71.0,>=0.70.12 in /opt/conda/lib/python3.7/site-packages (from tsflex) (0.70.14)\r\n",
      "Requirement already satisfied: dill<0.4.0,>=0.3.4 in /opt/conda/lib/python3.7/site-packages (from tsflex) (0.3.6)\r\n",
      "Requirement already satisfied: numpy<2.0.0,>=1.21.5 in /opt/conda/lib/python3.7/site-packages (from tsflex) (1.21.6)\r\n",
      "Requirement already satisfied: python-dateutil>=2.7.3 in /opt/conda/lib/python3.7/site-packages (from pandas<2.0.0,>=1.3.5->tsflex) (2.8.2)\r\n",
      "Requirement already satisfied: pytz>=2017.3 in /opt/conda/lib/python3.7/site-packages (from pandas<2.0.0,>=1.3.5->tsflex) (2022.7.1)\r\n",
      "Requirement already satisfied: six>=1.5 in /opt/conda/lib/python3.7/site-packages (from python-dateutil>=2.7.3->pandas<2.0.0,>=1.3.5->tsflex) (1.16.0)\r\n",
      "Installing collected packages: tsflex\r\n",
      "Successfully installed tsflex-0.3.0\r\n",
      "\u001b[33mWARNING: Running pip as the 'root' user can result in broken permissions and conflicting behaviour with the system package manager. It is recommended to use a virtual environment instead: https://pip.pypa.io/warnings/venv\u001b[0m\u001b[33m\r\n",
      "\u001b[0mLooking in links: file:///kaggle/input/segalearn\r\n",
      "Processing /kaggle/input/segalearn/seglearn-1.2.5-py3-none-any.whl\r\n",
      "Requirement already satisfied: scikit-learn>=0.21.3 in /opt/conda/lib/python3.7/site-packages (from seglearn) (1.0.2)\r\n",
      "Requirement already satisfied: numpy in /opt/conda/lib/python3.7/site-packages (from seglearn) (1.21.6)\r\n",
      "Requirement already satisfied: scipy in /opt/conda/lib/python3.7/site-packages (from seglearn) (1.7.3)\r\n",
      "Requirement already satisfied: threadpoolctl>=2.0.0 in /opt/conda/lib/python3.7/site-packages (from scikit-learn>=0.21.3->seglearn) (3.1.0)\r\n",
      "Requirement already satisfied: joblib>=0.11 in /opt/conda/lib/python3.7/site-packages (from scikit-learn>=0.21.3->seglearn) (1.2.0)\r\n",
      "Installing collected packages: seglearn\r\n",
      "Successfully installed seglearn-1.2.5\r\n",
      "\u001b[33mWARNING: Running pip as the 'root' user can result in broken permissions and conflicting behaviour with the system package manager. It is recommended to use a virtual environment instead: https://pip.pypa.io/warnings/venv\u001b[0m\u001b[33m\r\n",
      "\u001b[0m"
     ]
    }
   ],
   "source": [
    "import numpy as np # linear algebra\n",
    "import pandas as pd # data processing, CSV file I/O (e.g. pd.read_csv)\n",
    "\n",
    "import plotly.express as px\n",
    "from plotly.subplots import make_subplots\n",
    "import plotly.graph_objects as go\n",
    "\n",
    "import os\n",
    "import gc\n",
    "import pickle\n",
    "\n",
    "from IPython.core.debugger import set_trace\n",
    "\n",
    "from tqdm import tqdm\n",
    "from sklearn import preprocessing\n",
    "\n",
    "import lightgbm\n",
    "import xgboost\n",
    "from sklearn.ensemble import RandomForestClassifier \n",
    "from sklearn.ensemble import AdaBoostClassifier \n",
    "from sklearn.linear_model import LogisticRegression\n",
    "\n",
    "\n",
    "import catboost\n",
    "import random\n",
    "random.seed(20)\n",
    "\n",
    "# Install tsflex and seglearn\n",
    "!pip install tsflex --no-index --find-links=file:///kaggle/input/tsflex\n",
    "!pip install seglearn --no-index --find-links=file:///kaggle/input/segalearn\n",
    "\n",
    "\n",
    "from seglearn.feature_functions import base_features, emg_features\n",
    "\n",
    "from tsflex.features import FeatureCollection, MultipleFeatureDescriptors\n",
    "from tsflex.features.integrations import seglearn_feature_dict_wrapper"
   ]
  },
  {
   "cell_type": "code",
   "execution_count": 2,
   "id": "9cd10cf3",
   "metadata": {
    "execution": {
     "iopub.execute_input": "2023-05-29T21:55:41.374155Z",
     "iopub.status.busy": "2023-05-29T21:55:41.373227Z",
     "iopub.status.idle": "2023-05-29T21:56:02.488762Z",
     "shell.execute_reply": "2023-05-29T21:56:02.487442Z"
    },
    "papermill": {
     "duration": 21.124966,
     "end_time": "2023-05-29T21:56:02.492174",
     "exception": false,
     "start_time": "2023-05-29T21:55:41.367208",
     "status": "completed"
    },
    "tags": []
   },
   "outputs": [],
   "source": [
    "all_feats = list(pd.read_pickle(\"/kaggle/input/make-data-v9-tsflex-td/train_td.pkl\").columns)\n",
    "all_feats.extend(pd.read_pickle(\"/kaggle/input/make-data-v9-td/train_td.pkl\").columns)\n",
    "\n",
    "# those feats must not be in the black list.\n",
    "for c in ['target','file','id','Subject','Valid', 'Task','target','file',]:\n",
    "    if c in all_feats:\n",
    "        all_feats.remove(c)"
   ]
  },
  {
   "cell_type": "code",
   "execution_count": 3,
   "id": "53825786",
   "metadata": {
    "execution": {
     "iopub.execute_input": "2023-05-29T21:56:02.502557Z",
     "iopub.status.busy": "2023-05-29T21:56:02.501771Z",
     "iopub.status.idle": "2023-05-29T21:56:02.511052Z",
     "shell.execute_reply": "2023-05-29T21:56:02.510125Z"
    },
    "papermill": {
     "duration": 0.017231,
     "end_time": "2023-05-29T21:56:02.513633",
     "exception": false,
     "start_time": "2023-05-29T21:56:02.496402",
     "status": "completed"
    },
    "tags": []
   },
   "outputs": [],
   "source": [
    "def get_black_white_list(all_feats, models):\n",
    "    return_lists = {}\n",
    "    white_list = set([])\n",
    "    for model_name in models: \n",
    "        model = models[model_name]['model']\n",
    "        if \"xgboost\" in model_name :\n",
    "            model_cols = model.get_booster().feature_names\n",
    "\n",
    "        elif \"lgbm\" in model_name:\n",
    "            model_cols = model.feature_name_\n",
    "\n",
    "        elif \"rf\" in model_name or \"adaboost\" in model_name: \n",
    "            model_cols =  model.feature_names_in_\n",
    "        else:\n",
    "            model_cols = model.feature_names_\n",
    "\n",
    "        white_list = white_list.union(set(model_cols)).union([\"Subject\", \"Visit\",\"id\"])\n",
    "    return_lists[\"white_list\"] = white_list\n",
    "    return_lists[\"black_list\"] = [c for c in all_feats if c not in white_list]\n",
    "    return return_lists"
   ]
  },
  {
   "cell_type": "code",
   "execution_count": 4,
   "id": "16f8d9d0",
   "metadata": {
    "execution": {
     "iopub.execute_input": "2023-05-29T21:56:02.524275Z",
     "iopub.status.busy": "2023-05-29T21:56:02.523835Z",
     "iopub.status.idle": "2023-05-29T21:56:02.690260Z",
     "shell.execute_reply": "2023-05-29T21:56:02.688931Z"
    },
    "papermill": {
     "duration": 0.175722,
     "end_time": "2023-05-29T21:56:02.693632",
     "exception": false,
     "start_time": "2023-05-29T21:56:02.517910",
     "status": "completed"
    },
    "tags": []
   },
   "outputs": [],
   "source": [
    "catboost_tsflex_model = pickle.load(open(\"/kaggle/input/make-final-model-full-catboost-v9-tsflex/model_dict_catboost_full.pkl\", \"rb\"))\n",
    "xgboost_tsflex_model = pickle.load(open(\"/kaggle/input/make-final-model-full-xgboost-v9-tsflex/model_dict_xgboost_full.pkl\", \"rb\"))\n",
    "lgbm_tsflex_model = pickle.load(open(\"/kaggle/input/make-final-model-full-lgbm-v9-tsflex/model_dict_lgbm_full.pkl\", \"rb\"))\n",
    "rf_tsflex_model = pickle.load(open(\"/kaggle/input/make-final-model-full-rf-v9-tsflex/model_dict_rf_full.pkl\", \"rb\"))\n",
    "adaboost_tsflex_model = pickle.load(open(\"/kaggle/input/make-final-model-full-adaboost-v9-tsflex/model_dict_adaboost_full.pkl\", \"rb\"))\n",
    "\n",
    "catboost_model = pickle.load(open(\"/kaggle/input/make-final-model-full-catboost-v9/model_dict_catboost_full.pkl\", \"rb\"))\n",
    "xgboost_model = pickle.load(open(\"/kaggle/input/make-final-model-full-xgboost-v9/model_dict_xgboost_full.pkl\", \"rb\"))\n",
    "lgbm_model = pickle.load(open(\"/kaggle/input/make-final-model-full-lgbm-v9/model_dict_lgbm_full.pkl\", \"rb\"))\n",
    "rf_model = pickle.load(open(\"/kaggle/input/make-final-model-full-rf-v9/model_dict_rf_full.pkl\", \"rb\"))\n",
    "adaboost_model = pickle.load(open(\"/kaggle/input/make-final-model-full-adaboost-v9/model_dict_adaboost_full.pkl\", \"rb\"))\n",
    "\n",
    "lists = get_black_white_list(all_feats, {\n",
    "                            \"xgboost_tsflex\": xgboost_tsflex_model,\n",
    "                             \"lgbm_tsflex\": lgbm_tsflex_model,\n",
    "                            \"rf_tsflex\": rf_tsflex_model, \n",
    "                             \"catboost_tsflex\": catboost_tsflex_model,\n",
    "                             \"adaboost_tsflex\":adaboost_tsflex_model,\n",
    "                             \"catboost\": catboost_model,\n",
    "                             \"xgboost\": xgboost_model, \"lgbm\" :lgbm_model,\n",
    "                             \"rf\": rf_model,\"adaboost\": adaboost_model\n",
    "                                })\n",
    "\n",
    "black_list = lists[\"black_list\"]\n",
    "white_list = lists[\"white_list\"]"
   ]
  },
  {
   "cell_type": "code",
   "execution_count": 5,
   "id": "530a88d2",
   "metadata": {
    "execution": {
     "iopub.execute_input": "2023-05-29T21:56:02.704985Z",
     "iopub.status.busy": "2023-05-29T21:56:02.703799Z",
     "iopub.status.idle": "2023-05-29T21:56:02.709834Z",
     "shell.execute_reply": "2023-05-29T21:56:02.708876Z"
    },
    "papermill": {
     "duration": 0.014152,
     "end_time": "2023-05-29T21:56:02.712251",
     "exception": false,
     "start_time": "2023-05-29T21:56:02.698099",
     "status": "completed"
    },
    "tags": []
   },
   "outputs": [],
   "source": [
    "pickle.dump(black_list, open(\"black_list.pkl\",\"wb\"))\n",
    "pickle.dump(white_list, open(\"white_list.pkl\",\"wb\"))"
   ]
  }
 ],
 "metadata": {
  "kernelspec": {
   "display_name": "Python 3",
   "language": "python",
   "name": "python3"
  },
  "language_info": {
   "codemirror_mode": {
    "name": "ipython",
    "version": 3
   },
   "file_extension": ".py",
   "mimetype": "text/x-python",
   "name": "python",
   "nbconvert_exporter": "python",
   "pygments_lexer": "ipython3",
   "version": "3.7.12"
  },
  "papermill": {
   "default_parameters": {},
   "duration": 69.035181,
   "end_time": "2023-05-29T21:56:03.740991",
   "environment_variables": {},
   "exception": null,
   "input_path": "__notebook__.ipynb",
   "output_path": "__notebook__.ipynb",
   "parameters": {},
   "start_time": "2023-05-29T21:54:54.705810",
   "version": "2.4.0"
  }
 },
 "nbformat": 4,
 "nbformat_minor": 5
}
